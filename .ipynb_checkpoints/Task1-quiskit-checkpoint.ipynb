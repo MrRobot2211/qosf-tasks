{
 "cells": [
  {
   "cell_type": "code",
   "execution_count": 1,
   "id": "registered-cleveland",
   "metadata": {},
   "outputs": [],
   "source": [
    "#initialization\n",
    "import matplotlib.pyplot as plt\n",
    "import numpy as np\n",
    "\n",
    "# importing Qiskit\n",
    "from qiskit import IBMQ, Aer, QuantumCircuit, ClassicalRegister, QuantumRegister, execute\n",
    "from qiskit.providers.ibmq import least_busy\n",
    "\n",
    "# import basic plot tools\n",
    "from qiskit.visualization import plot_histogram , plot_state_qsphere ,plot_bloch_vector\n",
    "#from qiskit_textbook.tools import vector2latex\n",
    "\n",
    "from qiskit_textbook.widgets import bloch_calc\n"
   ]
  },
  {
   "cell_type": "code",
   "execution_count": 2,
   "id": "extraordinary-raise",
   "metadata": {},
   "outputs": [],
   "source": [
    "!conda list -e > requirements.txt"
   ]
  },
  {
   "cell_type": "code",
   "execution_count": 3,
   "id": "capable-spyware",
   "metadata": {},
   "outputs": [],
   "source": [
    "\n",
    "def create_state_generation_circuit(phi,theta):\n",
    "\n",
    "    state_generation_circuit = QuantumCircuit(1)\n",
    "    state_generation_circuit.rx(theta,0)\n",
    "    state_generation_circuit.rz(phi,0)\n",
    "    \n",
    "    return state_generation_circuit\n",
    "    "
   ]
  },
  {
   "cell_type": "code",
   "execution_count": 4,
   "id": "understanding-spider",
   "metadata": {},
   "outputs": [],
   "source": [
    "\n",
    "\n",
    "state_generation_circuit = create_state_generation_circuit(np.pi,np.pi/2)\n",
    "\n",
    "sv_sim = Aer.get_backend('statevector_simulator')\n",
    "job_sim = execute(state_generation_circuit, sv_sim)\n",
    "statevec = job_sim.result().get_statevector()\n",
    "#vector2latex(statevec, pretext=\"|\\\\psi\\\\rangle =\")"
   ]
  },
  {
   "cell_type": "code",
   "execution_count": 5,
   "id": "acknowledged-nashville",
   "metadata": {},
   "outputs": [
    {
     "data": {
      "text/plain": [
       "array([7.07106781e-01+0.j        , 4.32978028e-17+0.70710678j])"
      ]
     },
     "execution_count": 5,
     "metadata": {},
     "output_type": "execute_result"
    }
   ],
   "source": [
    "statevec"
   ]
  },
  {
   "cell_type": "code",
   "execution_count": 6,
   "id": "supported-community",
   "metadata": {},
   "outputs": [
    {
     "data": {
      "image/png": "[encoded data removed]",
      "text/plain": [
       "<Figure size 504x504 with 2 Axes>"
      ]
     },
     "execution_count": 6,
     "metadata": {},
     "output_type": "execute_result"
    }
   ],
   "source": [
    "\n",
    "plot_state_qsphere(statevec.data)"
   ]
  },
  {
   "cell_type": "code",
   "execution_count": 7,
   "id": "passive-transmission",
   "metadata": {},
   "outputs": [],
   "source": [
    "\n",
    "\n",
    "state_generation_circuit = create_state_generation_circuit(np.pi,np.pi/2)\n",
    "\n",
    "sv_sim = Aer.get_backend('statevector_simulator')\n",
    "job_sim = execute(state_generation_circuit, sv_sim)\n",
    "statevec = job_sim.result().get_statevector()\n",
    "#vector2latex(statevec, pretext=\"|\\\\psi\\\\rangle =\")"
   ]
  },
  {
   "cell_type": "code",
   "execution_count": 8,
   "id": "surprising-debate",
   "metadata": {},
   "outputs": [
    {
     "ename": "TypeError",
     "evalue": "bloch_calc() takes 0 positional arguments but 1 was given",
     "output_type": "error",
     "traceback": [
      "\u001b[0;31m---------------------------------------------------------------------------\u001b[0m",
      "\u001b[0;31mTypeError\u001b[0m                                 Traceback (most recent call last)",
      "\u001b[0;32m<ipython-input-8-43e57c1adeac>\u001b[0m in \u001b[0;36m<module>\u001b[0;34m\u001b[0m\n\u001b[0;32m----> 1\u001b[0;31m \u001b[0mplot_bloch_vector\u001b[0m\u001b[0;34m(\u001b[0m\u001b[0mbloch_calc\u001b[0m\u001b[0;34m(\u001b[0m\u001b[0mstatevec\u001b[0m\u001b[0;34m.\u001b[0m\u001b[0mdata\u001b[0m\u001b[0;34m)\u001b[0m\u001b[0;34m)\u001b[0m\u001b[0;34m\u001b[0m\u001b[0;34m\u001b[0m\u001b[0m\n\u001b[0m",
      "\u001b[0;31mTypeError\u001b[0m: bloch_calc() takes 0 positional arguments but 1 was given"
     ]
    }
   ],
   "source": [
    "plot_bloch_vector(bloch_calc(statevec.data))"
   ]
  },
  {
   "cell_type": "code",
   "execution_count": null,
   "id": "attractive-eight",
   "metadata": {},
   "outputs": [],
   "source": []
  },
  {
   "cell_type": "markdown",
   "id": "balanced-malpractice",
   "metadata": {},
   "source": [
    "2"
   ]
  },
  {
   "cell_type": "code",
   "execution_count": null,
   "id": "later-allowance",
   "metadata": {},
   "outputs": [],
   "source": []
  },
  {
   "cell_type": "code",
   "execution_count": null,
   "id": "disciplinary-disability",
   "metadata": {},
   "outputs": [],
   "source": []
  },
  {
   "cell_type": "code",
   "execution_count": 9,
   "id": "hearing-grade",
   "metadata": {},
   "outputs": [],
   "source": [
    "\n",
    "def create_swap_test_circuit():\n",
    "    \n",
    "    q = QuantumRegister(3)\n",
    "    c = ClassicalRegister(1) # Changed from 9 to 1\n",
    "\n",
    "    state_generation_circuit = QuantumCircuit(q,c)\n",
    "   \n",
    "    \n",
    "    \n",
    "    state_generation_circuit.h(0)\n",
    "    state_generation_circuit.cswap(0,1,2)\n",
    "    state_generation_circuit.h(0)\n",
    "    state_generation_circuit.measure(q[0],c)\n",
    "    \n",
    "    \n",
    "    return state_generation_circuit\n",
    "    "
   ]
  },
  {
   "cell_type": "code",
   "execution_count": null,
   "id": "sixth-three",
   "metadata": {},
   "outputs": [],
   "source": []
  },
  {
   "cell_type": "code",
   "execution_count": null,
   "id": "failing-retail",
   "metadata": {},
   "outputs": [],
   "source": []
  },
  {
   "cell_type": "code",
   "execution_count": 10,
   "id": "atmospheric-kazakhstan",
   "metadata": {},
   "outputs": [
    {
     "ename": "NameError",
     "evalue": "name 'qc' is not defined",
     "output_type": "error",
     "traceback": [
      "\u001b[0;31m---------------------------------------------------------------------------\u001b[0m",
      "\u001b[0;31mNameError\u001b[0m                                 Traceback (most recent call last)",
      "\u001b[0;32m<ipython-input-10-52c95003617c>\u001b[0m in \u001b[0;36m<module>\u001b[0;34m\u001b[0m\n\u001b[0;32m----> 1\u001b[0;31m \u001b[0mjob\u001b[0m \u001b[0;34m=\u001b[0m \u001b[0mexecute\u001b[0m\u001b[0;34m(\u001b[0m\u001b[0mqc\u001b[0m\u001b[0;34m,\u001b[0m\u001b[0msimulator\u001b[0m\u001b[0;34m,\u001b[0m\u001b[0mshots\u001b[0m \u001b[0;34m=\u001b[0m \u001b[0;36m1000\u001b[0m\u001b[0;34m)\u001b[0m\u001b[0;34m\u001b[0m\u001b[0;34m\u001b[0m\u001b[0m\n\u001b[0m\u001b[1;32m      2\u001b[0m \u001b[0mresult\u001b[0m \u001b[0;34m=\u001b[0m \u001b[0mjob\u001b[0m\u001b[0;34m.\u001b[0m\u001b[0mresult\u001b[0m\u001b[0;34m(\u001b[0m\u001b[0;34m)\u001b[0m\u001b[0;34m\u001b[0m\u001b[0;34m\u001b[0m\u001b[0m\n\u001b[1;32m      3\u001b[0m \u001b[0mcounts\u001b[0m \u001b[0;34m=\u001b[0m \u001b[0mresult\u001b[0m\u001b[0;34m.\u001b[0m\u001b[0mget_counts\u001b[0m\u001b[0;34m(\u001b[0m\u001b[0mqc\u001b[0m\u001b[0;34m)\u001b[0m\u001b[0;34m\u001b[0m\u001b[0;34m\u001b[0m\u001b[0m\n",
      "\u001b[0;31mNameError\u001b[0m: name 'qc' is not defined"
     ]
    }
   ],
   "source": [
    "job = execute(qc,simulator,shots = 1000)\n",
    "result = job.result()\n",
    "counts = result.get_counts(qc)"
   ]
  },
  {
   "cell_type": "code",
   "execution_count": null,
   "id": "sexual-profile",
   "metadata": {},
   "outputs": [],
   "source": []
  },
  {
   "cell_type": "code",
   "execution_count": 11,
   "id": "processed-meter",
   "metadata": {},
   "outputs": [],
   "source": [
    "from qiskit.quantum_info import Statevector,random_statevector\n"
   ]
  },
  {
   "cell_type": "code",
   "execution_count": 12,
   "id": "exclusive-inside",
   "metadata": {},
   "outputs": [],
   "source": [
    "\n",
    "def create_swap_test_circuit(psi):\n",
    "    \n",
    "    q = QuantumRegister(3)\n",
    "    c = ClassicalRegister(1) # Changed from 9 to 1\n",
    "    \n",
    "    circuit = QuantumCircuit(q,c)\n",
    "   \n",
    "    circuit.initialize(psi,[1])\n",
    "    \n",
    "    circuit.h(0)\n",
    "    circuit.cswap(0,1,2)\n",
    "    circuit.h(0)\n",
    "    circuit.measure(q[0],c)\n",
    "    \n",
    "    \n",
    "    return circuit\n",
    "    "
   ]
  },
  {
   "cell_type": "code",
   "execution_count": 13,
   "id": "black-complexity",
   "metadata": {},
   "outputs": [
    {
     "data": {
      "text/plain": [
       "Statevector([-0.70176636-0.04306145j,  0.71085688-0.0187663j ],\n",
       "            dims=(2,))"
      ]
     },
     "execution_count": 13,
     "metadata": {},
     "output_type": "execute_result"
    }
   ],
   "source": [
    "rsv = random_statevector(2)\n",
    "rsv"
   ]
  },
  {
   "cell_type": "code",
   "execution_count": 14,
   "id": "italic-retrieval",
   "metadata": {},
   "outputs": [],
   "source": [
    "swapcir = create_swap_test_circuit(rsv.data)"
   ]
  },
  {
   "cell_type": "code",
   "execution_count": 15,
   "id": "standard-beaver",
   "metadata": {},
   "outputs": [],
   "source": [
    "# Use Aer's qasm_simulator\n",
    "simulator = Aer.get_backend('qasm_simulator')"
   ]
  },
  {
   "cell_type": "code",
   "execution_count": 16,
   "id": "grand-tradition",
   "metadata": {},
   "outputs": [],
   "source": [
    "\n",
    "job = execute(swapcir,simulator,shots = 1000)\n",
    "result = job.result()\n",
    "counts = result.get_counts(swapcir)"
   ]
  },
  {
   "cell_type": "code",
   "execution_count": 17,
   "id": "bored-desert",
   "metadata": {},
   "outputs": [
    {
     "data": {
      "text/plain": [
       "{'1': 259, '0': 741}"
      ]
     },
     "execution_count": 17,
     "metadata": {},
     "output_type": "execute_result"
    }
   ],
   "source": [
    "counts"
   ]
  },
  {
   "cell_type": "code",
   "execution_count": 18,
   "id": "processed-challenge",
   "metadata": {},
   "outputs": [
    {
     "data": {
      "text/html": [
       "<pre style=\"word-wrap: normal;white-space: pre;background: #fff0;line-height: 1.1;font-family: &quot;Courier New&quot;,Courier,monospace\">                              ┌───┐                            ┌───┐┌─┐\n",
       "q0_0: ────────────────────────┤ H ├──────────────────────────■─┤ H ├┤M├\n",
       "      ┌───────────────────────┴───┴────────────────────────┐ │ └───┘└╥┘\n",
       "q0_1: ┤ initialize(-0.70177+-0.043061j,0.71086+-0.018766j) ├─X───────╫─\n",
       "      └────────────────────────────────────────────────────┘ │       ║ \n",
       "q0_2: ───────────────────────────────────────────────────────X───────╫─\n",
       "                                                                     ║ \n",
       "c0_0: ═══════════════════════════════════════════════════════════════╩═\n",
       "                                                                       </pre>"
      ],
      "text/plain": [
       "                              ┌───┐                            ┌───┐┌─┐\n",
       "q0_0: ────────────────────────┤ H ├──────────────────────────■─┤ H ├┤M├\n",
       "      ┌───────────────────────┴───┴────────────────────────┐ │ └───┘└╥┘\n",
       "q0_1: ┤ initialize(-0.70177+-0.043061j,0.71086+-0.018766j) ├─X───────╫─\n",
       "      └────────────────────────────────────────────────────┘ │       ║ \n",
       "q0_2: ───────────────────────────────────────────────────────X───────╫─\n",
       "                                                                     ║ \n",
       "c0_0: ═══════════════════════════════════════════════════════════════╩═\n",
       "                                                                       "
      ]
     },
     "execution_count": 18,
     "metadata": {},
     "output_type": "execute_result"
    }
   ],
   "source": [
    "swapcir.draw()"
   ]
  },
  {
   "cell_type": "code",
   "execution_count": null,
   "id": "false-ballet",
   "metadata": {},
   "outputs": [],
   "source": []
  },
  {
   "cell_type": "code",
   "execution_count": 19,
   "id": "dominican-mother",
   "metadata": {},
   "outputs": [],
   "source": [
    "swapcir = create_swap_test_circuit(np.array([0,1]))"
   ]
  },
  {
   "cell_type": "code",
   "execution_count": 20,
   "id": "drawn-trauma",
   "metadata": {},
   "outputs": [],
   "source": [
    "# Use Aer's qasm_simulator\n",
    "simulator = Aer.get_backend('qasm_simulator')"
   ]
  },
  {
   "cell_type": "code",
   "execution_count": 21,
   "id": "large-cincinnati",
   "metadata": {},
   "outputs": [],
   "source": [
    "\n",
    "job = execute(swapcir,simulator,shots = 1000)\n",
    "result = job.result()\n",
    "counts = result.get_counts(swapcir)"
   ]
  },
  {
   "cell_type": "code",
   "execution_count": 22,
   "id": "organizational-uganda",
   "metadata": {},
   "outputs": [
    {
     "data": {
      "text/plain": [
       "{'1': 484, '0': 516}"
      ]
     },
     "execution_count": 22,
     "metadata": {},
     "output_type": "execute_result"
    }
   ],
   "source": [
    "counts"
   ]
  },
  {
   "cell_type": "code",
   "execution_count": null,
   "id": "constitutional-resolution",
   "metadata": {},
   "outputs": [],
   "source": []
  },
  {
   "cell_type": "code",
   "execution_count": null,
   "id": "earned-sugar",
   "metadata": {},
   "outputs": [],
   "source": []
  },
  {
   "cell_type": "code",
   "execution_count": null,
   "id": "invisible-husband",
   "metadata": {},
   "outputs": [],
   "source": []
  },
  {
   "cell_type": "code",
   "execution_count": null,
   "id": "leading-margin",
   "metadata": {},
   "outputs": [],
   "source": []
  },
  {
   "cell_type": "code",
   "execution_count": 23,
   "id": "closed-taxation",
   "metadata": {},
   "outputs": [],
   "source": [
    "def create_blank_circuit():\n",
    "    \n",
    "    \n",
    "    q = QuantumRegister(3)\n",
    "    c = ClassicalRegister(1) # Changed from 9 to 1\n",
    "    \n",
    "    circuit = QuantumCircuit(q,c)\n",
    "    \n",
    "    return circuit\n",
    "    "
   ]
  },
  {
   "cell_type": "code",
   "execution_count": 24,
   "id": "baking-limitation",
   "metadata": {},
   "outputs": [],
   "source": [
    "blank_circuit =create_blank_circuit()"
   ]
  },
  {
   "cell_type": "code",
   "execution_count": null,
   "id": "automated-peninsula",
   "metadata": {},
   "outputs": [],
   "source": []
  },
  {
   "cell_type": "code",
   "execution_count": 25,
   "id": "enclosed-mustang",
   "metadata": {},
   "outputs": [],
   "source": [
    "generated_qc = blank_circuit.compose(state_generation_circuit, [2])"
   ]
  },
  {
   "cell_type": "code",
   "execution_count": 26,
   "id": "proper-surge",
   "metadata": {},
   "outputs": [],
   "source": [
    "composed_qc = generated_qc.compose(swapcir)"
   ]
  },
  {
   "cell_type": "code",
   "execution_count": 27,
   "id": "genuine-comparison",
   "metadata": {},
   "outputs": [
    {
     "data": {
      "text/html": [
       "<pre style=\"word-wrap: normal;white-space: pre;background: #fff0;line-height: 1.1;font-family: &quot;Courier New&quot;,Courier,monospace\">             ┌───┐                    ┌───┐┌─┐\n",
       "q2_0: ───────┤ H ├──────────────────■─┤ H ├┤M├\n",
       "      ┌──────┴───┴──────┐           │ └───┘└╥┘\n",
       "q2_1: ┤ initialize(0,1) ├───────────X───────╫─\n",
       "      └───┬──────────┬──┘┌────────┐ │       ║ \n",
       "q2_2: ────┤ RX(pi/2) ├───┤ RZ(pi) ├─X───────╫─\n",
       "          └──────────┘   └────────┘         ║ \n",
       "c2_0: ══════════════════════════════════════╩═\n",
       "                                              </pre>"
      ],
      "text/plain": [
       "             ┌───┐                    ┌───┐┌─┐\n",
       "q2_0: ───────┤ H ├──────────────────■─┤ H ├┤M├\n",
       "      ┌──────┴───┴──────┐           │ └───┘└╥┘\n",
       "q2_1: ┤ initialize(0,1) ├───────────X───────╫─\n",
       "      └───┬──────────┬──┘┌────────┐ │       ║ \n",
       "q2_2: ────┤ RX(pi/2) ├───┤ RZ(pi) ├─X───────╫─\n",
       "          └──────────┘   └────────┘         ║ \n",
       "c2_0: ══════════════════════════════════════╩═\n",
       "                                              "
      ]
     },
     "execution_count": 27,
     "metadata": {},
     "output_type": "execute_result"
    }
   ],
   "source": [
    "composed_qc.draw()"
   ]
  },
  {
   "cell_type": "code",
   "execution_count": null,
   "id": "painted-electron",
   "metadata": {},
   "outputs": [],
   "source": []
  },
  {
   "cell_type": "code",
   "execution_count": null,
   "id": "final-cathedral",
   "metadata": {},
   "outputs": [],
   "source": []
  },
  {
   "cell_type": "code",
   "execution_count": 28,
   "id": "anticipated-steal",
   "metadata": {},
   "outputs": [],
   "source": [
    "\n",
    "job = execute(composed_qc,simulator,shots = 1000)\n",
    "result = job.result()\n",
    "counts = result.get_counts(composed_qc)"
   ]
  },
  {
   "cell_type": "code",
   "execution_count": 29,
   "id": "satisfactory-wages",
   "metadata": {},
   "outputs": [
    {
     "data": {
      "text/plain": [
       "{'1': 232, '0': 768}"
      ]
     },
     "execution_count": 29,
     "metadata": {},
     "output_type": "execute_result"
    }
   ],
   "source": [
    "counts"
   ]
  },
  {
   "cell_type": "code",
   "execution_count": null,
   "id": "elect-rouge",
   "metadata": {},
   "outputs": [],
   "source": []
  },
  {
   "cell_type": "code",
   "execution_count": 30,
   "id": "impressed-thirty",
   "metadata": {},
   "outputs": [],
   "source": [
    "\n",
    "state_generation_circuit = create_state_generation_circuit(0,np.pi)\n"
   ]
  },
  {
   "cell_type": "code",
   "execution_count": 31,
   "id": "useful-notice",
   "metadata": {},
   "outputs": [],
   "source": [
    "blank_circuit =create_blank_circuit()"
   ]
  },
  {
   "cell_type": "code",
   "execution_count": null,
   "id": "outdoor-speaker",
   "metadata": {},
   "outputs": [],
   "source": []
  },
  {
   "cell_type": "code",
   "execution_count": 32,
   "id": "compressed-chorus",
   "metadata": {},
   "outputs": [],
   "source": [
    "generated_qc = blank_circuit.compose(state_generation_circuit, [2])"
   ]
  },
  {
   "cell_type": "code",
   "execution_count": 33,
   "id": "muslim-melbourne",
   "metadata": {},
   "outputs": [],
   "source": [
    "composed_qc = generated_qc.compose(swapcir)"
   ]
  },
  {
   "cell_type": "code",
   "execution_count": 34,
   "id": "minute-bathroom",
   "metadata": {},
   "outputs": [
    {
     "data": {
      "text/html": [
       "<pre style=\"word-wrap: normal;white-space: pre;background: #fff0;line-height: 1.1;font-family: &quot;Courier New&quot;,Courier,monospace\">             ┌───┐                   ┌───┐┌─┐\n",
       "q3_0: ───────┤ H ├─────────────────■─┤ H ├┤M├\n",
       "      ┌──────┴───┴──────┐          │ └───┘└╥┘\n",
       "q3_1: ┤ initialize(0,1) ├──────────X───────╫─\n",
       "      └────┬────────┬───┘┌───────┐ │       ║ \n",
       "q3_2: ─────┤ RX(pi) ├────┤ RZ(0) ├─X───────╫─\n",
       "           └────────┘    └───────┘         ║ \n",
       "c3_0: ═════════════════════════════════════╩═\n",
       "                                             </pre>"
      ],
      "text/plain": [
       "             ┌───┐                   ┌───┐┌─┐\n",
       "q3_0: ───────┤ H ├─────────────────■─┤ H ├┤M├\n",
       "      ┌──────┴───┴──────┐          │ └───┘└╥┘\n",
       "q3_1: ┤ initialize(0,1) ├──────────X───────╫─\n",
       "      └────┬────────┬───┘┌───────┐ │       ║ \n",
       "q3_2: ─────┤ RX(pi) ├────┤ RZ(0) ├─X───────╫─\n",
       "           └────────┘    └───────┘         ║ \n",
       "c3_0: ═════════════════════════════════════╩═\n",
       "                                             "
      ]
     },
     "execution_count": 34,
     "metadata": {},
     "output_type": "execute_result"
    }
   ],
   "source": [
    "composed_qc.draw()"
   ]
  },
  {
   "cell_type": "code",
   "execution_count": null,
   "id": "wired-happiness",
   "metadata": {},
   "outputs": [],
   "source": []
  },
  {
   "cell_type": "code",
   "execution_count": null,
   "id": "alternate-fever",
   "metadata": {},
   "outputs": [],
   "source": []
  },
  {
   "cell_type": "code",
   "execution_count": null,
   "id": "conscious-reynolds",
   "metadata": {},
   "outputs": [],
   "source": []
  },
  {
   "cell_type": "code",
   "execution_count": 35,
   "id": "higher-player",
   "metadata": {},
   "outputs": [],
   "source": [
    "\n",
    "def create_theta_estimation_circuit():\n",
    "\n",
    "    circuit = QuantumCircuit(1)\n",
    "    circuit.measure_all()\n",
    "    \n",
    "    return circuit\n",
    "    "
   ]
  },
  {
   "cell_type": "code",
   "execution_count": 36,
   "id": "synthetic-language",
   "metadata": {},
   "outputs": [],
   "source": [
    "theta_estimation_circuit =create_theta_estimation_circuit()"
   ]
  },
  {
   "cell_type": "code",
   "execution_count": 37,
   "id": "promising-response",
   "metadata": {},
   "outputs": [
    {
     "data": {
      "text/html": [
       "<pre style=\"word-wrap: normal;white-space: pre;background: #fff0;line-height: 1.1;font-family: &quot;Courier New&quot;,Courier,monospace\">         ░ ┌─┐\n",
       "   q_0: ─░─┤M├\n",
       "         ░ └╥┘\n",
       "meas_0: ════╩═\n",
       "              </pre>"
      ],
      "text/plain": [
       "         ░ ┌─┐\n",
       "   q_0: ─░─┤M├\n",
       "         ░ └╥┘\n",
       "meas_0: ════╩═\n",
       "              "
      ]
     },
     "execution_count": 37,
     "metadata": {},
     "output_type": "execute_result"
    }
   ],
   "source": [
    "theta_estimation_circuit.draw()"
   ]
  },
  {
   "cell_type": "code",
   "execution_count": 38,
   "id": "failing-literature",
   "metadata": {},
   "outputs": [
    {
     "data": {
      "text/plain": [
       "Statevector([ 0.2530011 -0.48404854j, -0.18132234+0.81780784j],\n",
       "            dims=(2,))"
      ]
     },
     "execution_count": 38,
     "metadata": {},
     "output_type": "execute_result"
    }
   ],
   "source": [
    "rsv =random_statevector(2)\n",
    "rsv"
   ]
  },
  {
   "cell_type": "code",
   "execution_count": 39,
   "id": "altered-hudson",
   "metadata": {},
   "outputs": [
    {
     "data": {
      "text/plain": [
       "<qiskit.circuit.instructionset.InstructionSet at 0x7fb850071610>"
      ]
     },
     "execution_count": 39,
     "metadata": {},
     "output_type": "execute_result"
    }
   ],
   "source": [
    "q = QuantumRegister(1)\n",
    "c =ClassicalRegister(1)\n",
    "\n",
    "circuit = QuantumCircuit(q,c)\n",
    "                         \n",
    "                         \n",
    "\n",
    "circuit.initialize(rsv.data,[0])"
   ]
  },
  {
   "cell_type": "code",
   "execution_count": 40,
   "id": "optimum-cache",
   "metadata": {},
   "outputs": [
    {
     "data": {
      "text/html": [
       "<pre style=\"word-wrap: normal;white-space: pre;background: #fff0;line-height: 1.1;font-family: &quot;Courier New&quot;,Courier,monospace\">      ┌───────────────────────────────────────────────┐\n",
       "q4_0: ┤ initialize(0.253+-0.48405j,-0.18132+0.81781j) ├\n",
       "      └───────────────────────────────────────────────┘\n",
       "c4_0: ═════════════════════════════════════════════════\n",
       "                                                       </pre>"
      ],
      "text/plain": [
       "      ┌───────────────────────────────────────────────┐\n",
       "q4_0: ┤ initialize(0.253+-0.48405j,-0.18132+0.81781j) ├\n",
       "      └───────────────────────────────────────────────┘\n",
       "c4_0: ═════════════════════════════════════════════════\n",
       "                                                       "
      ]
     },
     "execution_count": 40,
     "metadata": {},
     "output_type": "execute_result"
    }
   ],
   "source": [
    "circuit.draw()"
   ]
  },
  {
   "cell_type": "code",
   "execution_count": 41,
   "id": "determined-netscape",
   "metadata": {},
   "outputs": [],
   "source": [
    "theta_estimation_circuit= circuit.compose(theta_estimation_circuit)"
   ]
  },
  {
   "cell_type": "code",
   "execution_count": 42,
   "id": "homeless-kansas",
   "metadata": {},
   "outputs": [
    {
     "data": {
      "text/html": [
       "<pre style=\"word-wrap: normal;white-space: pre;background: #fff0;line-height: 1.1;font-family: &quot;Courier New&quot;,Courier,monospace\">      ┌───────────────────────────────────────────────┐ ░ ┌─┐\n",
       "q4_0: ┤ initialize(0.253+-0.48405j,-0.18132+0.81781j) ├─░─┤M├\n",
       "      └───────────────────────────────────────────────┘ ░ └╥┘\n",
       "c4_0: ═════════════════════════════════════════════════════╩═\n",
       "                                                             </pre>"
      ],
      "text/plain": [
       "      ┌───────────────────────────────────────────────┐ ░ ┌─┐\n",
       "q4_0: ┤ initialize(0.253+-0.48405j,-0.18132+0.81781j) ├─░─┤M├\n",
       "      └───────────────────────────────────────────────┘ ░ └╥┘\n",
       "c4_0: ═════════════════════════════════════════════════════╩═\n",
       "                                                             "
      ]
     },
     "execution_count": 42,
     "metadata": {},
     "output_type": "execute_result"
    }
   ],
   "source": [
    "theta_estimation_circuit.draw()"
   ]
  },
  {
   "cell_type": "code",
   "execution_count": 43,
   "id": "threatened-spouse",
   "metadata": {},
   "outputs": [],
   "source": [
    "\n",
    "job = execute(theta_estimation_circuit,simulator,shots = 1000)\n",
    "result = job.result()\n",
    "counts = result.get_counts(theta_estimation_circuit)"
   ]
  },
  {
   "cell_type": "code",
   "execution_count": 44,
   "id": "communist-driving",
   "metadata": {},
   "outputs": [
    {
     "data": {
      "text/plain": [
       "{'1': 716, '0': 284}"
      ]
     },
     "execution_count": 44,
     "metadata": {},
     "output_type": "execute_result"
    }
   ],
   "source": [
    "counts"
   ]
  },
  {
   "cell_type": "code",
   "execution_count": null,
   "id": "oriental-guatemala",
   "metadata": {},
   "outputs": [],
   "source": []
  },
  {
   "cell_type": "code",
   "execution_count": 45,
   "id": "controlled-heart",
   "metadata": {},
   "outputs": [],
   "source": [
    "\n",
    "def create_phi_estimation_circuit():\n",
    "\n",
    "    \n",
    "    circuit = QuantumCircuit(1)\n",
    "    circuit.h(0)\n",
    "    circuit.measure_all()\n",
    "    \n",
    "    \n",
    "    return circuit\n",
    "    "
   ]
  },
  {
   "cell_type": "code",
   "execution_count": 46,
   "id": "fabulous-privilege",
   "metadata": {},
   "outputs": [],
   "source": [
    "phi_estimation_circuit = create_phi_estimation_circuit()"
   ]
  },
  {
   "cell_type": "code",
   "execution_count": 47,
   "id": "discrete-information",
   "metadata": {},
   "outputs": [
    {
     "data": {
      "text/plain": [
       "<qiskit.circuit.instructionset.InstructionSet at 0x7fb838188bd0>"
      ]
     },
     "execution_count": 47,
     "metadata": {},
     "output_type": "execute_result"
    }
   ],
   "source": [
    "q = QuantumRegister(1)\n",
    "c =ClassicalRegister(1)\n",
    "\n",
    "circuit = QuantumCircuit(q,c)\n",
    "                         \n",
    "                         \n",
    "\n",
    "circuit.initialize(rsv.data,[0])"
   ]
  },
  {
   "cell_type": "code",
   "execution_count": 48,
   "id": "weekly-working",
   "metadata": {},
   "outputs": [],
   "source": [
    "phi_estimation_circuit= circuit.compose(phi_estimation_circuit)"
   ]
  },
  {
   "cell_type": "code",
   "execution_count": 49,
   "id": "negative-watershed",
   "metadata": {},
   "outputs": [
    {
     "data": {
      "text/html": [
       "<pre style=\"word-wrap: normal;white-space: pre;background: #fff0;line-height: 1.1;font-family: &quot;Courier New&quot;,Courier,monospace\">      ┌───────────────────────────────────────────────┐┌───┐ ░ ┌─┐\n",
       "q5_0: ┤ initialize(0.253+-0.48405j,-0.18132+0.81781j) ├┤ H ├─░─┤M├\n",
       "      └───────────────────────────────────────────────┘└───┘ ░ └╥┘\n",
       "c5_0: ══════════════════════════════════════════════════════════╩═\n",
       "                                                                  </pre>"
      ],
      "text/plain": [
       "      ┌───────────────────────────────────────────────┐┌───┐ ░ ┌─┐\n",
       "q5_0: ┤ initialize(0.253+-0.48405j,-0.18132+0.81781j) ├┤ H ├─░─┤M├\n",
       "      └───────────────────────────────────────────────┘└───┘ ░ └╥┘\n",
       "c5_0: ══════════════════════════════════════════════════════════╩═\n",
       "                                                                  "
      ]
     },
     "execution_count": 49,
     "metadata": {},
     "output_type": "execute_result"
    }
   ],
   "source": [
    "phi_estimation_circuit.draw()"
   ]
  },
  {
   "cell_type": "code",
   "execution_count": 50,
   "id": "found-basics",
   "metadata": {},
   "outputs": [],
   "source": [
    "\n",
    "job = execute(phi_estimation_circuit,simulator,shots = 1000)\n",
    "result = job.result()\n",
    "counts = result.get_counts(phi_estimation_circuit)"
   ]
  },
  {
   "cell_type": "code",
   "execution_count": 51,
   "id": "ignored-reducing",
   "metadata": {},
   "outputs": [
    {
     "data": {
      "text/plain": [
       "{'1': 944, '0': 56}"
      ]
     },
     "execution_count": 51,
     "metadata": {},
     "output_type": "execute_result"
    }
   ],
   "source": [
    "counts"
   ]
  },
  {
   "cell_type": "code",
   "execution_count": null,
   "id": "chubby-dubai",
   "metadata": {},
   "outputs": [],
   "source": [
    "def estimate_paramters_on_base_Z(psi,n_measurements):\n",
    "    \n",
    "    \n",
    "    theta_estimation_circuit =create_theta_estimation_circuit()    \n",
    "    q = QuantumRegister(1)\n",
    "    c =ClassicalRegister(1)\n",
    "    circuit = QuantumCircuit(q,c)\n",
    "            \n",
    "    circuit.initialize(psi,[0])\n",
    "    theta_estimation_circuit= circuit.compose(theta_estimation_circuit)\n",
    "    job = execute(theta_estimation_circuit,simulator,shots = n_measurements)\n",
    "    result = job.result()\n",
    "    counts = result.get_counts(theta_estimation_circuit)\n",
    "\n",
    "    beta = np.sqrt(counts['1'] /n_measurements)\n",
    "    alpha = np.sqrt(1-(counts['1'] /n_measurements))\n",
    "    \n",
    "    return alpha,beta\n",
    "    \n",
    "    \n",
    "    \n",
    "    \n",
    "    "
   ]
  },
  {
   "cell_type": "code",
   "execution_count": null,
   "id": "industrial-tsunami",
   "metadata": {},
   "outputs": [],
   "source": [
    "def estimate_paramters_on_base_X(psi,n_measurements):\n",
    "    \n",
    "    phi_estimation_circuit= create_phi_estimation_circuit()\n",
    "    \n",
    "    q = QuantumRegister(1)\n",
    "    c =ClassicalRegister(1)\n",
    "\n",
    "    circuit = QuantumCircuit(q,c)\n",
    "    circuit.initialize(psi,[0])\n",
    "    \n",
    "    \n",
    "    phi_estimation_circuit= circuit.compose(phi_estimation_circuit)\n",
    "    \n",
    "\n",
    "\n",
    "    job = execute(phi_estimation_circuit,simulator,shots = n_measurements)\n",
    "    result = job.result()\n",
    "    counts = result.get_counts(phi_estimation_circuit)\n",
    "    \n",
    "    \n",
    "    beta_X = counts['1'] /n_measurements\n",
    "    \n",
    "    return beta_X\n",
    "    \n",
    "    \n",
    "    "
   ]
  },
  {
   "cell_type": "code",
   "execution_count": 52,
   "id": "animated-example",
   "metadata": {},
   "outputs": [],
   "source": [
    "def estimate_angles_for_state(psi,n_measurements):\n",
    "    \n",
    "    \n",
    "    alpha,beta = estimate_paramters_on_base_Z(psi,n_measurements)\n",
    "    theta_estimated = 2*np.arcsin(beta)\n",
    "\n",
    "    \n",
    "    beta_X =  estimate_paramters_on_base_X(psi,n_measurements)\n",
    "    \n",
    "    phi_estimated = 2*np.arccos(np.clip((beta_X - 1.)/(2*(-alpha*beta)),-1,1)   )\n",
    "\n",
    "    \n",
    "    \n",
    "    return phi,theta\n",
    "    \n",
    "    \n",
    "    \n",
    "    \n",
    "    \n",
    "    \n",
    "    "
   ]
  },
  {
   "cell_type": "code",
   "execution_count": null,
   "id": "ahead-burst",
   "metadata": {},
   "outputs": [],
   "source": []
  },
  {
   "cell_type": "code",
   "execution_count": null,
   "id": "medical-microphone",
   "metadata": {},
   "outputs": [],
   "source": []
  },
  {
   "cell_type": "code",
   "execution_count": null,
   "id": "expected-assessment",
   "metadata": {},
   "outputs": [],
   "source": []
  },
  {
   "cell_type": "code",
   "execution_count": null,
   "id": "miniature-second",
   "metadata": {},
   "outputs": [],
   "source": []
  },
  {
   "cell_type": "code",
   "execution_count": 53,
   "id": "peaceful-decline",
   "metadata": {},
   "outputs": [],
   "source": [
    "\n",
    "job = execute(composed_qc,simulator,shots = 1000)\n",
    "result = job.result()\n",
    "counts = result.get_counts(composed_qc)"
   ]
  },
  {
   "cell_type": "code",
   "execution_count": 54,
   "id": "healthy-mixer",
   "metadata": {},
   "outputs": [
    {
     "data": {
      "text/plain": [
       "{'0': 1000}"
      ]
     },
     "execution_count": 54,
     "metadata": {},
     "output_type": "execute_result"
    }
   ],
   "source": [
    "counts"
   ]
  },
  {
   "cell_type": "code",
   "execution_count": null,
   "id": "polished-statistics",
   "metadata": {},
   "outputs": [],
   "source": []
  },
  {
   "cell_type": "code",
   "execution_count": null,
   "id": "functioning-optimization",
   "metadata": {},
   "outputs": [],
   "source": []
  },
  {
   "cell_type": "code",
   "execution_count": null,
   "id": "touched-publicity",
   "metadata": {},
   "outputs": [],
   "source": []
  },
  {
   "cell_type": "code",
   "execution_count": 135,
   "id": "improving-plumbing",
   "metadata": {},
   "outputs": [],
   "source": [
    "\n",
    "def create_swap_multiplicative_binary_circuit(psi):\n",
    "    \n",
    "    N= int(np.log2(psi.shape[0]))\n",
    "    \n",
    "    q = QuantumRegister(1+2*N)\n",
    "    #c = ClassicalRegister(N)\n",
    "    c = [ ClassicalRegister(1) for _ in range(N) ]\n",
    "    circuit = QuantumCircuit(q,*c)\n",
    "    \n",
    "    circuit.initialize(Statevector.from_label('0'*N).data,[i for i in range(N+1,2*N+1)])\n",
    "    \n",
    "    circuit.initialize(psi,[i for i in range(1,N+1)])\n",
    "    \n",
    "    \n",
    "    for i in range(N):\n",
    "    \n",
    "        circuit.h(0)\n",
    "        circuit.cswap(0,i+1,N+1+i)\n",
    "        circuit.h(0)\n",
    "        \n",
    "        circuit.measure(q[0],c[i])\n",
    "        \n",
    "        circuit.ry(np.pi,0).c_if(c[i],0)\n",
    "        circuit.barrier()\n",
    "        \n",
    "        \n",
    "    return circuit\n",
    "    "
   ]
  },
  {
   "cell_type": "code",
   "execution_count": 136,
   "id": "adequate-vermont",
   "metadata": {},
   "outputs": [],
   "source": [
    "nqvec = Statevector.from_label('001').data"
   ]
  },
  {
   "cell_type": "code",
   "execution_count": 137,
   "id": "pressed-cleaning",
   "metadata": {},
   "outputs": [
    {
     "data": {
      "text/plain": [
       "8"
      ]
     },
     "execution_count": 137,
     "metadata": {},
     "output_type": "execute_result"
    }
   ],
   "source": [
    "nqvec.shape[0]"
   ]
  },
  {
   "cell_type": "code",
   "execution_count": 138,
   "id": "distributed-theta",
   "metadata": {},
   "outputs": [],
   "source": [
    "swap_multiplicative_circ = create_swap_multiplicative_binary_circuit(Statevector.from_label('0101').data)"
   ]
  },
  {
   "cell_type": "code",
   "execution_count": 139,
   "id": "hazardous-portugal",
   "metadata": {},
   "outputs": [
    {
     "data": {
      "text/html": [
       "<pre style=\"word-wrap: normal;white-space: pre;background: #fff0;line-height: 1.1;font-family: &quot;Courier New&quot;,Courier,monospace\">                            ┌───┐                         ┌───┐┌─┐┌────────┐ ░ »\n",
       "q15_0: ─────────────────────┤ H ├───────────────────────■─┤ H ├┤M├┤ RY(pi) ├─░─»\n",
       "       ┌────────────────────┴───┴─────────────────────┐ │ └───┘└╥┘└───┬────┘ ░ »\n",
       "q15_1: ┤0                                             ├─X───────╫─────┼──────░─»\n",
       "       │                                              │ │       ║     │      ░ »\n",
       "q15_2: ┤1                                             ├─┼───────╫─────┼──────░─»\n",
       "       │  initialize(0,0,0,0,0,1,0,0,0,0,0,0,0,0,0,0) │ │       ║     │      ░ »\n",
       "q15_3: ┤2                                             ├─┼───────╫─────┼──────░─»\n",
       "       │                                              │ │       ║     │      ░ »\n",
       "q15_4: ┤3                                             ├─┼───────╫─────┼──────░─»\n",
       "       ├──────────────────────────────────────────────┤ │       ║     │      ░ »\n",
       "q15_5: ┤0                                             ├─X───────╫─────┼──────░─»\n",
       "       │                                              │         ║     │      ░ »\n",
       "q15_6: ┤1                                             ├─────────╫─────┼──────░─»\n",
       "       │  initialize(1,0,0,0,0,0,0,0,0,0,0,0,0,0,0,0) │         ║     │      ░ »\n",
       "q15_7: ┤2                                             ├─────────╫─────┼──────░─»\n",
       "       │                                              │         ║     │      ░ »\n",
       "q15_8: ┤3                                             ├─────────╫─────┼──────░─»\n",
       "       └──────────────────────────────────────────────┘         ║  ┌──┴──┐   ░ »\n",
       "c21_0: ═════════════════════════════════════════════════════════╩══╡ = 0 ╞═════»\n",
       "                                                                   └─────┘     »\n",
       "c22_0: ════════════════════════════════════════════════════════════════════════»\n",
       "                                                                               »\n",
       "c23_0: ════════════════════════════════════════════════════════════════════════»\n",
       "                                                                               »\n",
       "c24_0: ════════════════════════════════════════════════════════════════════════»\n",
       "                                                                               »\n",
       "«       ┌───┐   ┌───┐┌─┐┌────────┐ ░ ┌───┐   ┌───┐┌─┐┌────────┐ ░ ┌───┐   ┌───┐»\n",
       "«q15_0: ┤ H ├─■─┤ H ├┤M├┤ RY(pi) ├─░─┤ H ├─■─┤ H ├┤M├┤ RY(pi) ├─░─┤ H ├─■─┤ H ├»\n",
       "«       └───┘ │ └───┘└╥┘└───┬────┘ ░ └───┘ │ └───┘└╥┘└───┬────┘ ░ └───┘ │ └───┘»\n",
       "«q15_1: ──────┼───────╫─────┼──────░───────┼───────╫─────┼──────░───────┼──────»\n",
       "«             │       ║     │      ░       │       ║     │      ░       │      »\n",
       "«q15_2: ──────X───────╫─────┼──────░───────┼───────╫─────┼──────░───────┼──────»\n",
       "«             │       ║     │      ░       │       ║     │      ░       │      »\n",
       "«q15_3: ──────┼───────╫─────┼──────░───────X───────╫─────┼──────░───────┼──────»\n",
       "«             │       ║     │      ░       │       ║     │      ░       │      »\n",
       "«q15_4: ──────┼───────╫─────┼──────░───────┼───────╫─────┼──────░───────X──────»\n",
       "«             │       ║     │      ░       │       ║     │      ░       │      »\n",
       "«q15_5: ──────┼───────╫─────┼──────░───────┼───────╫─────┼──────░───────┼──────»\n",
       "«             │       ║     │      ░       │       ║     │      ░       │      »\n",
       "«q15_6: ──────X───────╫─────┼──────░───────┼───────╫─────┼──────░───────┼──────»\n",
       "«                     ║     │      ░       │       ║     │      ░       │      »\n",
       "«q15_7: ──────────────╫─────┼──────░───────X───────╫─────┼──────░───────┼──────»\n",
       "«                     ║     │      ░               ║     │      ░       │      »\n",
       "«q15_8: ──────────────╫─────┼──────░───────────────╫─────┼──────░───────X──────»\n",
       "«                     ║     │      ░               ║     │      ░              »\n",
       "«c21_0: ══════════════╬═════╪══════════════════════╬═════╪═════════════════════»\n",
       "«                     ║  ┌──┴──┐                   ║     │                     »\n",
       "«c22_0: ══════════════╩══╡ = 0 ╞═══════════════════╬═════╪═════════════════════»\n",
       "«                        └─────┘                   ║  ┌──┴──┐                  »\n",
       "«c23_0: ═══════════════════════════════════════════╩══╡ = 0 ╞══════════════════»\n",
       "«                                                     └─────┘                  »\n",
       "«c24_0: ═══════════════════════════════════════════════════════════════════════»\n",
       "«                                                                              »\n",
       "«       ┌─┐┌────────┐ ░ \n",
       "«q15_0: ┤M├┤ RY(pi) ├─░─\n",
       "«       └╥┘└───┬────┘ ░ \n",
       "«q15_1: ─╫─────┼──────░─\n",
       "«        ║     │      ░ \n",
       "«q15_2: ─╫─────┼──────░─\n",
       "«        ║     │      ░ \n",
       "«q15_3: ─╫─────┼──────░─\n",
       "«        ║     │      ░ \n",
       "«q15_4: ─╫─────┼──────░─\n",
       "«        ║     │      ░ \n",
       "«q15_5: ─╫─────┼──────░─\n",
       "«        ║     │      ░ \n",
       "«q15_6: ─╫─────┼──────░─\n",
       "«        ║     │      ░ \n",
       "«q15_7: ─╫─────┼──────░─\n",
       "«        ║     │      ░ \n",
       "«q15_8: ─╫─────┼──────░─\n",
       "«        ║     │      ░ \n",
       "«c21_0: ═╬═════╪════════\n",
       "«        ║     │        \n",
       "«c22_0: ═╬═════╪════════\n",
       "«        ║     │        \n",
       "«c23_0: ═╬═════╪════════\n",
       "«        ║  ┌──┴──┐     \n",
       "«c24_0: ═╩══╡ = 0 ╞═════\n",
       "«           └─────┘     </pre>"
      ],
      "text/plain": [
       "                            ┌───┐                         ┌───┐┌─┐┌────────┐ ░ »\n",
       "q15_0: ─────────────────────┤ H ├───────────────────────■─┤ H ├┤M├┤ RY(pi) ├─░─»\n",
       "       ┌────────────────────┴───┴─────────────────────┐ │ └───┘└╥┘└───┬────┘ ░ »\n",
       "q15_1: ┤0                                             ├─X───────╫─────┼──────░─»\n",
       "       │                                              │ │       ║     │      ░ »\n",
       "q15_2: ┤1                                             ├─┼───────╫─────┼──────░─»\n",
       "       │  initialize(0,0,0,0,0,1,0,0,0,0,0,0,0,0,0,0) │ │       ║     │      ░ »\n",
       "q15_3: ┤2                                             ├─┼───────╫─────┼──────░─»\n",
       "       │                                              │ │       ║     │      ░ »\n",
       "q15_4: ┤3                                             ├─┼───────╫─────┼──────░─»\n",
       "       ├──────────────────────────────────────────────┤ │       ║     │      ░ »\n",
       "q15_5: ┤0                                             ├─X───────╫─────┼──────░─»\n",
       "       │                                              │         ║     │      ░ »\n",
       "q15_6: ┤1                                             ├─────────╫─────┼──────░─»\n",
       "       │  initialize(1,0,0,0,0,0,0,0,0,0,0,0,0,0,0,0) │         ║     │      ░ »\n",
       "q15_7: ┤2                                             ├─────────╫─────┼──────░─»\n",
       "       │                                              │         ║     │      ░ »\n",
       "q15_8: ┤3                                             ├─────────╫─────┼──────░─»\n",
       "       └──────────────────────────────────────────────┘         ║  ┌──┴──┐   ░ »\n",
       "c21_0: ═════════════════════════════════════════════════════════╩══╡ = 0 ╞═════»\n",
       "                                                                   └─────┘     »\n",
       "c22_0: ════════════════════════════════════════════════════════════════════════»\n",
       "                                                                               »\n",
       "c23_0: ════════════════════════════════════════════════════════════════════════»\n",
       "                                                                               »\n",
       "c24_0: ════════════════════════════════════════════════════════════════════════»\n",
       "                                                                               »\n",
       "«       ┌───┐   ┌───┐┌─┐┌────────┐ ░ ┌───┐   ┌───┐┌─┐┌────────┐ ░ ┌───┐   ┌───┐»\n",
       "«q15_0: ┤ H ├─■─┤ H ├┤M├┤ RY(pi) ├─░─┤ H ├─■─┤ H ├┤M├┤ RY(pi) ├─░─┤ H ├─■─┤ H ├»\n",
       "«       └───┘ │ └───┘└╥┘└───┬────┘ ░ └───┘ │ └───┘└╥┘└───┬────┘ ░ └───┘ │ └───┘»\n",
       "«q15_1: ──────┼───────╫─────┼──────░───────┼───────╫─────┼──────░───────┼──────»\n",
       "«             │       ║     │      ░       │       ║     │      ░       │      »\n",
       "«q15_2: ──────X───────╫─────┼──────░───────┼───────╫─────┼──────░───────┼──────»\n",
       "«             │       ║     │      ░       │       ║     │      ░       │      »\n",
       "«q15_3: ──────┼───────╫─────┼──────░───────X───────╫─────┼──────░───────┼──────»\n",
       "«             │       ║     │      ░       │       ║     │      ░       │      »\n",
       "«q15_4: ──────┼───────╫─────┼──────░───────┼───────╫─────┼──────░───────X──────»\n",
       "«             │       ║     │      ░       │       ║     │      ░       │      »\n",
       "«q15_5: ──────┼───────╫─────┼──────░───────┼───────╫─────┼──────░───────┼──────»\n",
       "«             │       ║     │      ░       │       ║     │      ░       │      »\n",
       "«q15_6: ──────X───────╫─────┼──────░───────┼───────╫─────┼──────░───────┼──────»\n",
       "«                     ║     │      ░       │       ║     │      ░       │      »\n",
       "«q15_7: ──────────────╫─────┼──────░───────X───────╫─────┼──────░───────┼──────»\n",
       "«                     ║     │      ░               ║     │      ░       │      »\n",
       "«q15_8: ──────────────╫─────┼──────░───────────────╫─────┼──────░───────X──────»\n",
       "«                     ║     │      ░               ║     │      ░              »\n",
       "«c21_0: ══════════════╬═════╪══════════════════════╬═════╪═════════════════════»\n",
       "«                     ║  ┌──┴──┐                   ║     │                     »\n",
       "«c22_0: ══════════════╩══╡ = 0 ╞═══════════════════╬═════╪═════════════════════»\n",
       "«                        └─────┘                   ║  ┌──┴──┐                  »\n",
       "«c23_0: ═══════════════════════════════════════════╩══╡ = 0 ╞══════════════════»\n",
       "«                                                     └─────┘                  »\n",
       "«c24_0: ═══════════════════════════════════════════════════════════════════════»\n",
       "«                                                                              »\n",
       "«       ┌─┐┌────────┐ ░ \n",
       "«q15_0: ┤M├┤ RY(pi) ├─░─\n",
       "«       └╥┘└───┬────┘ ░ \n",
       "«q15_1: ─╫─────┼──────░─\n",
       "«        ║     │      ░ \n",
       "«q15_2: ─╫─────┼──────░─\n",
       "«        ║     │      ░ \n",
       "«q15_3: ─╫─────┼──────░─\n",
       "«        ║     │      ░ \n",
       "«q15_4: ─╫─────┼──────░─\n",
       "«        ║     │      ░ \n",
       "«q15_5: ─╫─────┼──────░─\n",
       "«        ║     │      ░ \n",
       "«q15_6: ─╫─────┼──────░─\n",
       "«        ║     │      ░ \n",
       "«q15_7: ─╫─────┼──────░─\n",
       "«        ║     │      ░ \n",
       "«q15_8: ─╫─────┼──────░─\n",
       "«        ║     │      ░ \n",
       "«c21_0: ═╬═════╪════════\n",
       "«        ║     │        \n",
       "«c22_0: ═╬═════╪════════\n",
       "«        ║     │        \n",
       "«c23_0: ═╬═════╪════════\n",
       "«        ║  ┌──┴──┐     \n",
       "«c24_0: ═╩══╡ = 0 ╞═════\n",
       "«           └─────┘     "
      ]
     },
     "execution_count": 139,
     "metadata": {},
     "output_type": "execute_result"
    }
   ],
   "source": [
    "swap_multiplicative_circ.draw()"
   ]
  },
  {
   "cell_type": "code",
   "execution_count": 140,
   "id": "refined-freedom",
   "metadata": {},
   "outputs": [],
   "source": [
    "n_trials=10\n",
    "job = execute(swap_multiplicative_circ,simulator,shots = n_trials,meas_level='single')\n",
    "result = job.result()\n",
    "counts = result.get_counts(swap_multiplicative_circ)"
   ]
  },
  {
   "cell_type": "code",
   "execution_count": 141,
   "id": "searching-aging",
   "metadata": {},
   "outputs": [
    {
     "data": {
      "text/plain": [
       "{'1 1 1 0': 4, '1 0 1 0': 3, '1 1 1 1': 2, '1 0 1 1': 1}"
      ]
     },
     "execution_count": 141,
     "metadata": {},
     "output_type": "execute_result"
    }
   ],
   "source": [
    "counts"
   ]
  },
  {
   "cell_type": "code",
   "execution_count": 142,
   "id": "excited-campbell",
   "metadata": {},
   "outputs": [
    {
     "data": {
      "text/plain": [
       "array([0, 1, 0, 1])"
      ]
     },
     "execution_count": 142,
     "metadata": {},
     "output_type": "execute_result"
    }
   ],
   "source": [
    "N=4\n",
    "qbts=np.zeros(N)\n",
    "\n",
    "for i in range(N):\n",
    "       \n",
    "        for key in counts.keys():\n",
    "            \n",
    "            if key.split(' ')[i] == '1':\n",
    "                \n",
    "                qbts[i]+=counts[key]\n",
    "        \n",
    "        \n",
    "        \n",
    "qbts = qbts/10        \n",
    "    \n",
    "    \n",
    "    \n",
    "(~(qbts == 1) )*1"
   ]
  },
  {
   "cell_type": "code",
   "execution_count": null,
   "id": "frequent-person",
   "metadata": {},
   "outputs": [],
   "source": []
  }
 ],
 "metadata": {
  "kernelspec": {
   "display_name": "Qiskit",
   "language": "python",
   "name": "qiskit"
  },
  "language_info": {
   "codemirror_mode": {
    "name": "ipython",
    "version": 3
   },
   "file_extension": ".py",
   "mimetype": "text/x-python",
   "name": "python",
   "nbconvert_exporter": "python",
   "pygments_lexer": "ipython3",
   "version": "3.7.6"
  }
 },
 "nbformat": 4,
 "nbformat_minor": 5
}
