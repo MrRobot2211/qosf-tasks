{
 "cells": [
  {
   "cell_type": "code",
   "execution_count": 1,
   "id": "limited-cooper",
   "metadata": {},
   "outputs": [],
   "source": [
    "#initialization\n",
    "import matplotlib.pyplot as plt\n",
    "import numpy as np\n",
    "\n",
    "# importing Qiskit\n",
    "from qiskit import IBMQ, Aer, QuantumCircuit, ClassicalRegister, QuantumRegister, execute\n",
    "from qiskit.providers.ibmq import least_busy\n",
    "\n",
    "# import basic plot tools\n",
    "from qiskit.visualization import plot_histogram , plot_state_qsphere ,plot_bloch_vector\n",
    "#from qiskit_textbook.tools import vector2latex\n",
    "\n",
    "from qiskit_textbook.widgets import bloch_calc\n"
   ]
  },
  {
   "cell_type": "code",
   "execution_count": 13,
   "id": "maritime-entity",
   "metadata": {},
   "outputs": [],
   "source": [
    "!conda list -e > requirements.txt"
   ]
  },
  {
   "cell_type": "markdown",
   "id": "fifth-victim",
   "metadata": {},
   "source": [
    "# 1"
   ]
  },
  {
   "cell_type": "code",
   "execution_count": 14,
   "id": "junior-regard",
   "metadata": {},
   "outputs": [],
   "source": [
    "\n",
    "def create_state_generation_circuit(phi,theta):\n",
    "\n",
    "    state_generation_circuit = QuantumCircuit(1)\n",
    "    state_generation_circuit.ry(theta,0)\n",
    "    state_generation_circuit.rz(phi,0)\n",
    "    \n",
    "    return state_generation_circuit\n",
    "    "
   ]
  },
  {
   "cell_type": "code",
   "execution_count": 15,
   "id": "charming-aberdeen",
   "metadata": {},
   "outputs": [],
   "source": [
    "\n",
    "\n",
    "state_generation_circuit = create_state_generation_circuit(np.pi,np.pi/2)\n",
    "\n",
    "sv_sim = Aer.get_backend('statevector_simulator')\n",
    "job_sim = execute(state_generation_circuit, sv_sim)\n",
    "statevec = job_sim.result().get_statevector()\n",
    "#vector2latex(statevec, pretext=\"|\\\\psi\\\\rangle =\")"
   ]
  },
  {
   "cell_type": "code",
   "execution_count": 16,
   "id": "anticipated-agreement",
   "metadata": {},
   "outputs": [
    {
     "data": {
      "text/plain": [
       "array([ 0.70710678+0.00000000e+00j, -0.70710678+8.65956056e-17j])"
      ]
     },
     "execution_count": 16,
     "metadata": {},
     "output_type": "execute_result"
    }
   ],
   "source": [
    "statevec"
   ]
  },
  {
   "cell_type": "code",
   "execution_count": 17,
   "id": "inner-cutting",
   "metadata": {},
   "outputs": [
    {
     "data": {
      "image/png": "[encoded data removed]",
      "text/plain": [
       "<Figure size 504x504 with 2 Axes>"
      ]
     },
     "execution_count": 17,
     "metadata": {},
     "output_type": "execute_result"
    }
   ],
   "source": [
    "\n",
    "plot_state_qsphere(statevec.data)"
   ]
  },
  {
   "cell_type": "code",
   "execution_count": 18,
   "id": "amateur-device",
   "metadata": {},
   "outputs": [],
   "source": [
    "\n",
    "\n",
    "state_generation_circuit = create_state_generation_circuit(np.pi,np.pi/2)\n",
    "\n",
    "sv_sim = Aer.get_backend('statevector_simulator')\n",
    "job_sim = execute(state_generation_circuit, sv_sim)\n",
    "statevec = job_sim.result().get_statevector()\n",
    "#vector2latex(statevec, pretext=\"|\\\\psi\\\\rangle =\")"
   ]
  },
  {
   "cell_type": "code",
   "execution_count": 19,
   "id": "enormous-female",
   "metadata": {},
   "outputs": [],
   "source": [
    "#plot_bloch_vector(bloch_calc(statevec.data))"
   ]
  },
  {
   "cell_type": "code",
   "execution_count": null,
   "id": "manufactured-conspiracy",
   "metadata": {},
   "outputs": [],
   "source": []
  },
  {
   "cell_type": "markdown",
   "id": "rough-partner",
   "metadata": {},
   "source": [
    "# 2"
   ]
  },
  {
   "cell_type": "code",
   "execution_count": 20,
   "id": "wooden-parks",
   "metadata": {},
   "outputs": [],
   "source": [
    "from qiskit.quantum_info import Statevector,random_statevector\n"
   ]
  },
  {
   "cell_type": "code",
   "execution_count": 21,
   "id": "entitled-prairie",
   "metadata": {},
   "outputs": [],
   "source": [
    "\n",
    "def create_swap_test_circuit(psi):\n",
    "    \n",
    "    q = QuantumRegister(3)\n",
    "    c = ClassicalRegister(1) # Changed from 9 to 1\n",
    "    \n",
    "    circuit = QuantumCircuit(q,c)\n",
    "   \n",
    "    circuit.initialize(psi,[1])\n",
    "    \n",
    "    circuit.h(0)\n",
    "    circuit.cswap(0,1,2)\n",
    "    circuit.h(0)\n",
    "    circuit.measure(q[0],c)\n",
    "    \n",
    "    \n",
    "    return circuit\n",
    "    "
   ]
  },
  {
   "cell_type": "code",
   "execution_count": 22,
   "id": "economic-interaction",
   "metadata": {},
   "outputs": [
    {
     "data": {
      "text/plain": [
       "Statevector([-0.34128656-0.13952715j, -0.91948526+0.13639108j],\n",
       "            dims=(2,))"
      ]
     },
     "execution_count": 22,
     "metadata": {},
     "output_type": "execute_result"
    }
   ],
   "source": [
    "rsv = random_statevector(2)\n",
    "rsv"
   ]
  },
  {
   "cell_type": "code",
   "execution_count": 23,
   "id": "macro-marriage",
   "metadata": {},
   "outputs": [],
   "source": [
    "swapcir = create_swap_test_circuit(rsv.data)"
   ]
  },
  {
   "cell_type": "code",
   "execution_count": 24,
   "id": "smart-intake",
   "metadata": {},
   "outputs": [],
   "source": [
    "# Use Aer's qasm_simulator\n",
    "simulator = Aer.get_backend('qasm_simulator')"
   ]
  },
  {
   "cell_type": "code",
   "execution_count": 25,
   "id": "brown-accused",
   "metadata": {},
   "outputs": [],
   "source": [
    "\n",
    "job = execute(swapcir,simulator,shots = 1000)\n",
    "result = job.result()\n",
    "counts = result.get_counts(swapcir)"
   ]
  },
  {
   "cell_type": "code",
   "execution_count": 26,
   "id": "dimensional-cosmetic",
   "metadata": {},
   "outputs": [
    {
     "data": {
      "text/plain": [
       "{'0': 576, '1': 424}"
      ]
     },
     "execution_count": 26,
     "metadata": {},
     "output_type": "execute_result"
    }
   ],
   "source": [
    "counts"
   ]
  },
  {
   "cell_type": "code",
   "execution_count": 27,
   "id": "about-composite",
   "metadata": {},
   "outputs": [
    {
     "data": {
      "text/html": [
       "<pre style=\"word-wrap: normal;white-space: pre;background: #fff0;line-height: 1.1;font-family: &quot;Courier New&quot;,Courier,monospace\">                             ┌───┐                           ┌───┐┌─┐\n",
       "q0_0: ───────────────────────┤ H ├─────────────────────────■─┤ H ├┤M├\n",
       "      ┌──────────────────────┴───┴───────────────────────┐ │ └───┘└╥┘\n",
       "q0_1: ┤ initialize(-0.34129+-0.13953j,-0.91949+0.13639j) ├─X───────╫─\n",
       "      └──────────────────────────────────────────────────┘ │       ║ \n",
       "q0_2: ─────────────────────────────────────────────────────X───────╫─\n",
       "                                                                   ║ \n",
       "c0_0: ═════════════════════════════════════════════════════════════╩═\n",
       "                                                                     </pre>"
      ],
      "text/plain": [
       "                             ┌───┐                           ┌───┐┌─┐\n",
       "q0_0: ───────────────────────┤ H ├─────────────────────────■─┤ H ├┤M├\n",
       "      ┌──────────────────────┴───┴───────────────────────┐ │ └───┘└╥┘\n",
       "q0_1: ┤ initialize(-0.34129+-0.13953j,-0.91949+0.13639j) ├─X───────╫─\n",
       "      └──────────────────────────────────────────────────┘ │       ║ \n",
       "q0_2: ─────────────────────────────────────────────────────X───────╫─\n",
       "                                                                   ║ \n",
       "c0_0: ═════════════════════════════════════════════════════════════╩═\n",
       "                                                                     "
      ]
     },
     "execution_count": 27,
     "metadata": {},
     "output_type": "execute_result"
    }
   ],
   "source": [
    "swapcir.draw()"
   ]
  },
  {
   "cell_type": "code",
   "execution_count": null,
   "id": "disabled-duplicate",
   "metadata": {},
   "outputs": [],
   "source": []
  },
  {
   "cell_type": "code",
   "execution_count": 28,
   "id": "senior-kazakhstan",
   "metadata": {},
   "outputs": [],
   "source": [
    "swapcir = create_swap_test_circuit(np.array([0,1]))"
   ]
  },
  {
   "cell_type": "code",
   "execution_count": 29,
   "id": "abandoned-cosmetic",
   "metadata": {},
   "outputs": [],
   "source": [
    "# Use Aer's qasm_simulator\n",
    "simulator = Aer.get_backend('qasm_simulator')"
   ]
  },
  {
   "cell_type": "code",
   "execution_count": 30,
   "id": "underlying-allah",
   "metadata": {},
   "outputs": [],
   "source": [
    "\n",
    "job = execute(swapcir,simulator,shots = 1000)\n",
    "result = job.result()\n",
    "counts = result.get_counts(swapcir)"
   ]
  },
  {
   "cell_type": "code",
   "execution_count": 31,
   "id": "aboriginal-energy",
   "metadata": {},
   "outputs": [
    {
     "data": {
      "text/plain": [
       "{'0': 528, '1': 472}"
      ]
     },
     "execution_count": 31,
     "metadata": {},
     "output_type": "execute_result"
    }
   ],
   "source": [
    "counts"
   ]
  },
  {
   "cell_type": "code",
   "execution_count": null,
   "id": "dimensional-arena",
   "metadata": {},
   "outputs": [],
   "source": []
  },
  {
   "cell_type": "code",
   "execution_count": null,
   "id": "hazardous-punch",
   "metadata": {},
   "outputs": [],
   "source": []
  },
  {
   "cell_type": "code",
   "execution_count": null,
   "id": "finite-danger",
   "metadata": {},
   "outputs": [],
   "source": []
  },
  {
   "cell_type": "code",
   "execution_count": null,
   "id": "equal-hopkins",
   "metadata": {},
   "outputs": [],
   "source": []
  },
  {
   "cell_type": "code",
   "execution_count": 32,
   "id": "starting-florist",
   "metadata": {},
   "outputs": [],
   "source": [
    "def create_blank_circuit():\n",
    "    \n",
    "    \n",
    "    q = QuantumRegister(3)\n",
    "    c = ClassicalRegister(1) # Changed from 9 to 1\n",
    "    \n",
    "    circuit = QuantumCircuit(q,c)\n",
    "    \n",
    "    return circuit\n",
    "    "
   ]
  },
  {
   "cell_type": "code",
   "execution_count": 33,
   "id": "outdoor-china",
   "metadata": {},
   "outputs": [],
   "source": [
    "blank_circuit =create_blank_circuit()"
   ]
  },
  {
   "cell_type": "code",
   "execution_count": null,
   "id": "crazy-bundle",
   "metadata": {},
   "outputs": [],
   "source": []
  },
  {
   "cell_type": "code",
   "execution_count": 34,
   "id": "analyzed-valuable",
   "metadata": {},
   "outputs": [],
   "source": [
    "generated_qc = blank_circuit.compose(state_generation_circuit, [2])"
   ]
  },
  {
   "cell_type": "code",
   "execution_count": 35,
   "id": "distinct-supervision",
   "metadata": {},
   "outputs": [],
   "source": [
    "composed_qc = generated_qc.compose(swapcir)"
   ]
  },
  {
   "cell_type": "code",
   "execution_count": 36,
   "id": "sexual-malpractice",
   "metadata": {},
   "outputs": [
    {
     "data": {
      "text/html": [
       "<pre style=\"word-wrap: normal;white-space: pre;background: #fff0;line-height: 1.1;font-family: &quot;Courier New&quot;,Courier,monospace\">             ┌───┐                    ┌───┐┌─┐\n",
       "q2_0: ───────┤ H ├──────────────────■─┤ H ├┤M├\n",
       "      ┌──────┴───┴──────┐           │ └───┘└╥┘\n",
       "q2_1: ┤ initialize(0,1) ├───────────X───────╫─\n",
       "      └───┬──────────┬──┘┌────────┐ │       ║ \n",
       "q2_2: ────┤ RY(pi/2) ├───┤ RZ(pi) ├─X───────╫─\n",
       "          └──────────┘   └────────┘         ║ \n",
       "c2_0: ══════════════════════════════════════╩═\n",
       "                                              </pre>"
      ],
      "text/plain": [
       "             ┌───┐                    ┌───┐┌─┐\n",
       "q2_0: ───────┤ H ├──────────────────■─┤ H ├┤M├\n",
       "      ┌──────┴───┴──────┐           │ └───┘└╥┘\n",
       "q2_1: ┤ initialize(0,1) ├───────────X───────╫─\n",
       "      └───┬──────────┬──┘┌────────┐ │       ║ \n",
       "q2_2: ────┤ RY(pi/2) ├───┤ RZ(pi) ├─X───────╫─\n",
       "          └──────────┘   └────────┘         ║ \n",
       "c2_0: ══════════════════════════════════════╩═\n",
       "                                              "
      ]
     },
     "execution_count": 36,
     "metadata": {},
     "output_type": "execute_result"
    }
   ],
   "source": [
    "composed_qc.draw()"
   ]
  },
  {
   "cell_type": "code",
   "execution_count": null,
   "id": "uniform-glossary",
   "metadata": {},
   "outputs": [],
   "source": []
  },
  {
   "cell_type": "code",
   "execution_count": null,
   "id": "unlikely-single",
   "metadata": {},
   "outputs": [],
   "source": []
  },
  {
   "cell_type": "code",
   "execution_count": 37,
   "id": "standard-northeast",
   "metadata": {},
   "outputs": [],
   "source": [
    "\n",
    "job = execute(composed_qc,simulator,shots = 1000)\n",
    "result = job.result()\n",
    "counts = result.get_counts(composed_qc)"
   ]
  },
  {
   "cell_type": "code",
   "execution_count": 38,
   "id": "vertical-linux",
   "metadata": {},
   "outputs": [
    {
     "data": {
      "text/plain": [
       "{'0': 749, '1': 251}"
      ]
     },
     "execution_count": 38,
     "metadata": {},
     "output_type": "execute_result"
    }
   ],
   "source": [
    "counts"
   ]
  },
  {
   "cell_type": "code",
   "execution_count": null,
   "id": "smoking-grade",
   "metadata": {},
   "outputs": [],
   "source": []
  },
  {
   "cell_type": "code",
   "execution_count": 39,
   "id": "paperback-dictionary",
   "metadata": {},
   "outputs": [],
   "source": [
    "\n",
    "state_generation_circuit = create_state_generation_circuit(0,np.pi)\n"
   ]
  },
  {
   "cell_type": "code",
   "execution_count": 40,
   "id": "inclusive-demand",
   "metadata": {},
   "outputs": [],
   "source": [
    "blank_circuit =create_blank_circuit()"
   ]
  },
  {
   "cell_type": "code",
   "execution_count": null,
   "id": "insured-international",
   "metadata": {},
   "outputs": [],
   "source": []
  },
  {
   "cell_type": "code",
   "execution_count": 41,
   "id": "animal-turtle",
   "metadata": {},
   "outputs": [],
   "source": [
    "generated_qc = blank_circuit.compose(state_generation_circuit, [2])"
   ]
  },
  {
   "cell_type": "code",
   "execution_count": 42,
   "id": "exact-amount",
   "metadata": {},
   "outputs": [],
   "source": [
    "composed_qc = generated_qc.compose(swapcir)"
   ]
  },
  {
   "cell_type": "code",
   "execution_count": 43,
   "id": "organizational-aruba",
   "metadata": {},
   "outputs": [
    {
     "data": {
      "text/html": [
       "<pre style=\"word-wrap: normal;white-space: pre;background: #fff0;line-height: 1.1;font-family: &quot;Courier New&quot;,Courier,monospace\">             ┌───┐                   ┌───┐┌─┐\n",
       "q3_0: ───────┤ H ├─────────────────■─┤ H ├┤M├\n",
       "      ┌──────┴───┴──────┐          │ └───┘└╥┘\n",
       "q3_1: ┤ initialize(0,1) ├──────────X───────╫─\n",
       "      └────┬────────┬───┘┌───────┐ │       ║ \n",
       "q3_2: ─────┤ RY(pi) ├────┤ RZ(0) ├─X───────╫─\n",
       "           └────────┘    └───────┘         ║ \n",
       "c3_0: ═════════════════════════════════════╩═\n",
       "                                             </pre>"
      ],
      "text/plain": [
       "             ┌───┐                   ┌───┐┌─┐\n",
       "q3_0: ───────┤ H ├─────────────────■─┤ H ├┤M├\n",
       "      ┌──────┴───┴──────┐          │ └───┘└╥┘\n",
       "q3_1: ┤ initialize(0,1) ├──────────X───────╫─\n",
       "      └────┬────────┬───┘┌───────┐ │       ║ \n",
       "q3_2: ─────┤ RY(pi) ├────┤ RZ(0) ├─X───────╫─\n",
       "           └────────┘    └───────┘         ║ \n",
       "c3_0: ═════════════════════════════════════╩═\n",
       "                                             "
      ]
     },
     "execution_count": 43,
     "metadata": {},
     "output_type": "execute_result"
    }
   ],
   "source": [
    "composed_qc.draw()"
   ]
  },
  {
   "cell_type": "code",
   "execution_count": null,
   "id": "exclusive-paragraph",
   "metadata": {},
   "outputs": [],
   "source": []
  },
  {
   "cell_type": "code",
   "execution_count": null,
   "id": "extraordinary-sympathy",
   "metadata": {},
   "outputs": [],
   "source": []
  },
  {
   "cell_type": "code",
   "execution_count": null,
   "id": "phantom-siemens",
   "metadata": {},
   "outputs": [],
   "source": []
  },
  {
   "cell_type": "code",
   "execution_count": 44,
   "id": "wrapped-spanking",
   "metadata": {},
   "outputs": [],
   "source": [
    "\n",
    "def create_theta_estimation_circuit():\n",
    "\n",
    "    circuit = QuantumCircuit(1)\n",
    "    circuit.measure_all()\n",
    "    \n",
    "    return circuit\n",
    "    "
   ]
  },
  {
   "cell_type": "code",
   "execution_count": 45,
   "id": "protected-multimedia",
   "metadata": {},
   "outputs": [],
   "source": [
    "theta_estimation_circuit =create_theta_estimation_circuit()"
   ]
  },
  {
   "cell_type": "code",
   "execution_count": 46,
   "id": "professional-british",
   "metadata": {},
   "outputs": [
    {
     "data": {
      "text/html": [
       "<pre style=\"word-wrap: normal;white-space: pre;background: #fff0;line-height: 1.1;font-family: &quot;Courier New&quot;,Courier,monospace\">         ░ ┌─┐\n",
       "   q_0: ─░─┤M├\n",
       "         ░ └╥┘\n",
       "meas_0: ════╩═\n",
       "              </pre>"
      ],
      "text/plain": [
       "         ░ ┌─┐\n",
       "   q_0: ─░─┤M├\n",
       "         ░ └╥┘\n",
       "meas_0: ════╩═\n",
       "              "
      ]
     },
     "execution_count": 46,
     "metadata": {},
     "output_type": "execute_result"
    }
   ],
   "source": [
    "theta_estimation_circuit.draw()"
   ]
  },
  {
   "cell_type": "code",
   "execution_count": 47,
   "id": "governmental-sacrifice",
   "metadata": {},
   "outputs": [
    {
     "data": {
      "text/plain": [
       "Statevector([ 0.76171643-0.64627192j, -0.045943  -0.00315211j],\n",
       "            dims=(2,))"
      ]
     },
     "execution_count": 47,
     "metadata": {},
     "output_type": "execute_result"
    }
   ],
   "source": [
    "rsv =random_statevector(2)\n",
    "rsv"
   ]
  },
  {
   "cell_type": "code",
   "execution_count": 48,
   "id": "brief-coffee",
   "metadata": {},
   "outputs": [
    {
     "data": {
      "text/plain": [
       "<qiskit.circuit.instructionset.InstructionSet at 0x7faed9c2be50>"
      ]
     },
     "execution_count": 48,
     "metadata": {},
     "output_type": "execute_result"
    }
   ],
   "source": [
    "q = QuantumRegister(1)\n",
    "c =ClassicalRegister(1)\n",
    "\n",
    "circuit = QuantumCircuit(q,c)\n",
    "                         \n",
    "                         \n",
    "\n",
    "circuit.initialize(rsv.data,[0])"
   ]
  },
  {
   "cell_type": "code",
   "execution_count": 49,
   "id": "backed-kansas",
   "metadata": {},
   "outputs": [
    {
     "data": {
      "text/html": [
       "<pre style=\"word-wrap: normal;white-space: pre;background: #fff0;line-height: 1.1;font-family: &quot;Courier New&quot;,Courier,monospace\">      ┌─────────────────────────────────────────────────────┐\n",
       "q4_0: ┤ initialize(0.76172+-0.64627j,-0.045943+-0.0031521j) ├\n",
       "      └─────────────────────────────────────────────────────┘\n",
       "c4_0: ═══════════════════════════════════════════════════════\n",
       "                                                             </pre>"
      ],
      "text/plain": [
       "      ┌─────────────────────────────────────────────────────┐\n",
       "q4_0: ┤ initialize(0.76172+-0.64627j,-0.045943+-0.0031521j) ├\n",
       "      └─────────────────────────────────────────────────────┘\n",
       "c4_0: ═══════════════════════════════════════════════════════\n",
       "                                                             "
      ]
     },
     "execution_count": 49,
     "metadata": {},
     "output_type": "execute_result"
    }
   ],
   "source": [
    "circuit.draw()"
   ]
  },
  {
   "cell_type": "code",
   "execution_count": 50,
   "id": "addressed-correction",
   "metadata": {},
   "outputs": [],
   "source": [
    "theta_estimation_circuit= circuit.compose(theta_estimation_circuit)"
   ]
  },
  {
   "cell_type": "code",
   "execution_count": 51,
   "id": "established-float",
   "metadata": {},
   "outputs": [
    {
     "data": {
      "text/html": [
       "<pre style=\"word-wrap: normal;white-space: pre;background: #fff0;line-height: 1.1;font-family: &quot;Courier New&quot;,Courier,monospace\">      ┌─────────────────────────────────────────────────────┐ ░ ┌─┐\n",
       "q4_0: ┤ initialize(0.76172+-0.64627j,-0.045943+-0.0031521j) ├─░─┤M├\n",
       "      └─────────────────────────────────────────────────────┘ ░ └╥┘\n",
       "c4_0: ═══════════════════════════════════════════════════════════╩═\n",
       "                                                                   </pre>"
      ],
      "text/plain": [
       "      ┌─────────────────────────────────────────────────────┐ ░ ┌─┐\n",
       "q4_0: ┤ initialize(0.76172+-0.64627j,-0.045943+-0.0031521j) ├─░─┤M├\n",
       "      └─────────────────────────────────────────────────────┘ ░ └╥┘\n",
       "c4_0: ═══════════════════════════════════════════════════════════╩═\n",
       "                                                                   "
      ]
     },
     "execution_count": 51,
     "metadata": {},
     "output_type": "execute_result"
    }
   ],
   "source": [
    "theta_estimation_circuit.draw()"
   ]
  },
  {
   "cell_type": "code",
   "execution_count": 52,
   "id": "opened-response",
   "metadata": {},
   "outputs": [],
   "source": [
    "\n",
    "job = execute(theta_estimation_circuit,simulator,shots = 1000)\n",
    "result = job.result()\n",
    "counts = result.get_counts(theta_estimation_circuit)"
   ]
  },
  {
   "cell_type": "code",
   "execution_count": 53,
   "id": "artificial-action",
   "metadata": {},
   "outputs": [
    {
     "data": {
      "text/plain": [
       "{'0': 999, '1': 1}"
      ]
     },
     "execution_count": 53,
     "metadata": {},
     "output_type": "execute_result"
    }
   ],
   "source": [
    "counts"
   ]
  },
  {
   "cell_type": "code",
   "execution_count": null,
   "id": "equal-avenue",
   "metadata": {},
   "outputs": [],
   "source": []
  },
  {
   "cell_type": "code",
   "execution_count": 54,
   "id": "electoral-expert",
   "metadata": {},
   "outputs": [],
   "source": [
    "\n",
    "def create_phi_estimation_circuit():\n",
    "\n",
    "    \n",
    "    circuit = QuantumCircuit(1)\n",
    "    circuit.h(0)\n",
    "    circuit.measure_all()\n",
    "    \n",
    "    \n",
    "    return circuit\n",
    "    "
   ]
  },
  {
   "cell_type": "code",
   "execution_count": 55,
   "id": "colored-puzzle",
   "metadata": {},
   "outputs": [],
   "source": [
    "phi_estimation_circuit = create_phi_estimation_circuit()"
   ]
  },
  {
   "cell_type": "code",
   "execution_count": 56,
   "id": "weekly-retail",
   "metadata": {},
   "outputs": [
    {
     "data": {
      "text/plain": [
       "<qiskit.circuit.instructionset.InstructionSet at 0x7faed914be50>"
      ]
     },
     "execution_count": 56,
     "metadata": {},
     "output_type": "execute_result"
    }
   ],
   "source": [
    "q = QuantumRegister(1)\n",
    "c =ClassicalRegister(1)\n",
    "\n",
    "circuit = QuantumCircuit(q,c)\n",
    "                         \n",
    "                         \n",
    "\n",
    "circuit.initialize(rsv.data,[0])"
   ]
  },
  {
   "cell_type": "code",
   "execution_count": 57,
   "id": "regular-specific",
   "metadata": {},
   "outputs": [],
   "source": [
    "phi_estimation_circuit= circuit.compose(phi_estimation_circuit)"
   ]
  },
  {
   "cell_type": "code",
   "execution_count": 58,
   "id": "complex-heritage",
   "metadata": {},
   "outputs": [
    {
     "data": {
      "text/html": [
       "<pre style=\"word-wrap: normal;white-space: pre;background: #fff0;line-height: 1.1;font-family: &quot;Courier New&quot;,Courier,monospace\">      ┌─────────────────────────────────────────────────────┐┌───┐ ░ ┌─┐\n",
       "q5_0: ┤ initialize(0.76172+-0.64627j,-0.045943+-0.0031521j) ├┤ H ├─░─┤M├\n",
       "      └─────────────────────────────────────────────────────┘└───┘ ░ └╥┘\n",
       "c5_0: ════════════════════════════════════════════════════════════════╩═\n",
       "                                                                        </pre>"
      ],
      "text/plain": [
       "      ┌─────────────────────────────────────────────────────┐┌───┐ ░ ┌─┐\n",
       "q5_0: ┤ initialize(0.76172+-0.64627j,-0.045943+-0.0031521j) ├┤ H ├─░─┤M├\n",
       "      └─────────────────────────────────────────────────────┘└───┘ ░ └╥┘\n",
       "c5_0: ════════════════════════════════════════════════════════════════╩═\n",
       "                                                                        "
      ]
     },
     "execution_count": 58,
     "metadata": {},
     "output_type": "execute_result"
    }
   ],
   "source": [
    "phi_estimation_circuit.draw()"
   ]
  },
  {
   "cell_type": "code",
   "execution_count": 59,
   "id": "august-excuse",
   "metadata": {},
   "outputs": [],
   "source": [
    "\n",
    "job = execute(phi_estimation_circuit,simulator,shots = 1000)\n",
    "result = job.result()\n",
    "counts = result.get_counts(phi_estimation_circuit)"
   ]
  },
  {
   "cell_type": "code",
   "execution_count": 60,
   "id": "dried-august",
   "metadata": {},
   "outputs": [
    {
     "data": {
      "text/plain": [
       "{'0': 478, '1': 522}"
      ]
     },
     "execution_count": 60,
     "metadata": {},
     "output_type": "execute_result"
    }
   ],
   "source": [
    "counts"
   ]
  },
  {
   "cell_type": "code",
   "execution_count": 61,
   "id": "varied-music",
   "metadata": {},
   "outputs": [],
   "source": [
    "def estimate_paramters_on_base_Z(psi,n_measurements):\n",
    "    \n",
    "    \n",
    "    theta_estimation_circuit =create_theta_estimation_circuit()    \n",
    "    q = QuantumRegister(1)\n",
    "    c =ClassicalRegister(1)\n",
    "    circuit = QuantumCircuit(q,c)\n",
    "            \n",
    "    circuit.initialize(psi,[0])\n",
    "    theta_estimation_circuit= circuit.compose(theta_estimation_circuit)\n",
    "    job = execute(theta_estimation_circuit,simulator,shots = n_measurements)\n",
    "    result = job.result()\n",
    "    counts = result.get_counts(theta_estimation_circuit)\n",
    "\n",
    "    beta = np.sqrt(counts['1'] /n_measurements)\n",
    "    alpha = np.sqrt(1-(counts['1'] /n_measurements))\n",
    "    \n",
    "    return alpha,beta\n",
    "    \n",
    "    \n",
    "    \n",
    "    \n",
    "    "
   ]
  },
  {
   "cell_type": "code",
   "execution_count": 62,
   "id": "verbal-fishing",
   "metadata": {},
   "outputs": [],
   "source": [
    "def estimate_paramters_on_base_X(psi,n_measurements):\n",
    "    \n",
    "    phi_estimation_circuit= create_phi_estimation_circuit()\n",
    "    \n",
    "    q = QuantumRegister(1)\n",
    "    c =ClassicalRegister(1)\n",
    "\n",
    "    circuit = QuantumCircuit(q,c)\n",
    "    circuit.initialize(psi,[0])\n",
    "    \n",
    "    \n",
    "    phi_estimation_circuit= circuit.compose(phi_estimation_circuit)\n",
    "    \n",
    "\n",
    "\n",
    "    job = execute(phi_estimation_circuit,simulator,shots = n_measurements)\n",
    "    result = job.result()\n",
    "    counts = result.get_counts(phi_estimation_circuit)\n",
    "    \n",
    "    \n",
    "    beta_X = counts['1'] /n_measurements\n",
    "    \n",
    "    return beta_X\n",
    "    \n",
    "    \n",
    "    "
   ]
  },
  {
   "cell_type": "code",
   "execution_count": 63,
   "id": "prompt-canberra",
   "metadata": {},
   "outputs": [],
   "source": [
    "def estimate_angles_for_state(psi,n_measurements):\n",
    "    \n",
    "    \n",
    "    alpha,beta = estimate_paramters_on_base_Z(psi,n_measurements)\n",
    "    theta_estimated = 2*np.arcsin(beta)\n",
    "\n",
    "    \n",
    "    beta_X =  estimate_paramters_on_base_X(psi,n_measurements)\n",
    "    \n",
    "    phi_estimated = 2*np.arccos(np.clip((beta_X - 1.)/(2*(-alpha*beta)),-1,1)   )\n",
    "\n",
    "    \n",
    "    \n",
    "    return phi_estimated,theta_estimated\n",
    "    \n",
    "    \n",
    "    \n",
    "    \n",
    "    \n",
    "    \n",
    "    "
   ]
  },
  {
   "cell_type": "code",
   "execution_count": 64,
   "id": "occupational-colony",
   "metadata": {},
   "outputs": [
    {
     "data": {
      "text/plain": [
       "array([ 0.21205053-0.87921755j, -0.41484497-0.09957271j])"
      ]
     },
     "execution_count": 64,
     "metadata": {},
     "output_type": "execute_result"
    }
   ],
   "source": [
    "rsv =random_statevector(2).data\n",
    "rsv"
   ]
  },
  {
   "cell_type": "code",
   "execution_count": 65,
   "id": "biological-arthur",
   "metadata": {},
   "outputs": [],
   "source": [
    "phi,theta = estimate_angles_for_state(rsv,1000)"
   ]
  },
  {
   "cell_type": "code",
   "execution_count": null,
   "id": "pharmaceutical-carbon",
   "metadata": {},
   "outputs": [],
   "source": []
  },
  {
   "cell_type": "code",
   "execution_count": 66,
   "id": "surface-pathology",
   "metadata": {},
   "outputs": [],
   "source": [
    "\n",
    "\n",
    "state_generation_circuit = create_state_generation_circuit(phi,theta)\n",
    "\n",
    "sv_sim = Aer.get_backend('statevector_simulator')\n",
    "job_sim = execute(state_generation_circuit, sv_sim)\n",
    "statevec = job_sim.result().get_statevector()\n",
    "#vector2latex(statevec, pretext=\"|\\\\psi\\\\rangle =\")"
   ]
  },
  {
   "cell_type": "code",
   "execution_count": 67,
   "id": "wrong-rally",
   "metadata": {},
   "outputs": [
    {
     "data": {
      "text/plain": [
       "array([ 0.90332718+0.j        , -0.0887708 +0.41966623j])"
      ]
     },
     "execution_count": 67,
     "metadata": {},
     "output_type": "execute_result"
    }
   ],
   "source": [
    "statevec"
   ]
  },
  {
   "cell_type": "code",
   "execution_count": 68,
   "id": "narrow-calibration",
   "metadata": {},
   "outputs": [
    {
     "data": {
      "text/plain": [
       "0.639128915350121"
      ]
     },
     "execution_count": 68,
     "metadata": {},
     "output_type": "execute_result"
    }
   ],
   "source": [
    "np.linalg.norm(np.vdot(rsv,statevec.data))"
   ]
  },
  {
   "cell_type": "code",
   "execution_count": null,
   "id": "unauthorized-toilet",
   "metadata": {},
   "outputs": [],
   "source": []
  },
  {
   "cell_type": "code",
   "execution_count": 69,
   "id": "fantastic-puzzle",
   "metadata": {},
   "outputs": [],
   "source": [
    "swapcir = create_swap_test_circuit(rsv)"
   ]
  },
  {
   "cell_type": "code",
   "execution_count": 70,
   "id": "secret-conditions",
   "metadata": {},
   "outputs": [],
   "source": [
    "blank_circuit =create_blank_circuit()"
   ]
  },
  {
   "cell_type": "code",
   "execution_count": 71,
   "id": "intellectual-blanket",
   "metadata": {},
   "outputs": [],
   "source": [
    "generated_qc = blank_circuit.compose(state_generation_circuit, [2])"
   ]
  },
  {
   "cell_type": "code",
   "execution_count": 72,
   "id": "moved-honolulu",
   "metadata": {},
   "outputs": [],
   "source": [
    "composed_qc = generated_qc.compose(swapcir)"
   ]
  },
  {
   "cell_type": "code",
   "execution_count": 73,
   "id": "instant-microphone",
   "metadata": {},
   "outputs": [
    {
     "data": {
      "text/html": [
       "<pre style=\"word-wrap: normal;white-space: pre;background: #fff0;line-height: 1.1;font-family: &quot;Courier New&quot;,Courier,monospace\">                              ┌───┐                                         »\n",
       "q9_0: ────────────────────────┤ H ├───────────────────────────────────────■─»\n",
       "      ┌───────────────────────┴───┴───────────────────────┐               │ »\n",
       "q9_1: ┤ initialize(0.21205+-0.87922j,-0.41484+-0.099573j) ├───────────────X─»\n",
       "      └──────────────────┬─────────────┬──────────────────┘┌────────────┐ │ »\n",
       "q9_2: ───────────────────┤ RY(0.88667) ├───────────────────┤ RZ(1.7793) ├─X─»\n",
       "                         └─────────────┘                   └────────────┘   »\n",
       "c9_0: ══════════════════════════════════════════════════════════════════════»\n",
       "                                                                            »\n",
       "«      ┌───┐┌─┐\n",
       "«q9_0: ┤ H ├┤M├\n",
       "«      └───┘└╥┘\n",
       "«q9_1: ──────╫─\n",
       "«            ║ \n",
       "«q9_2: ──────╫─\n",
       "«            ║ \n",
       "«c9_0: ══════╩═\n",
       "«              </pre>"
      ],
      "text/plain": [
       "                              ┌───┐                                         »\n",
       "q9_0: ────────────────────────┤ H ├───────────────────────────────────────■─»\n",
       "      ┌───────────────────────┴───┴───────────────────────┐               │ »\n",
       "q9_1: ┤ initialize(0.21205+-0.87922j,-0.41484+-0.099573j) ├───────────────X─»\n",
       "      └──────────────────┬─────────────┬──────────────────┘┌────────────┐ │ »\n",
       "q9_2: ───────────────────┤ RY(0.88667) ├───────────────────┤ RZ(1.7793) ├─X─»\n",
       "                         └─────────────┘                   └────────────┘   »\n",
       "c9_0: ══════════════════════════════════════════════════════════════════════»\n",
       "                                                                            »\n",
       "«      ┌───┐┌─┐\n",
       "«q9_0: ┤ H ├┤M├\n",
       "«      └───┘└╥┘\n",
       "«q9_1: ──────╫─\n",
       "«            ║ \n",
       "«q9_2: ──────╫─\n",
       "«            ║ \n",
       "«c9_0: ══════╩═\n",
       "«              "
      ]
     },
     "execution_count": 73,
     "metadata": {},
     "output_type": "execute_result"
    }
   ],
   "source": [
    "composed_qc.draw()"
   ]
  },
  {
   "cell_type": "code",
   "execution_count": 74,
   "id": "floating-lebanon",
   "metadata": {},
   "outputs": [],
   "source": [
    "\n",
    "job = execute(composed_qc,simulator,shots = 1000)\n",
    "result = job.result()\n",
    "counts = result.get_counts(composed_qc)"
   ]
  },
  {
   "cell_type": "code",
   "execution_count": 75,
   "id": "interpreted-cover",
   "metadata": {},
   "outputs": [
    {
     "data": {
      "text/plain": [
       "{'0': 704, '1': 296}"
      ]
     },
     "execution_count": 75,
     "metadata": {},
     "output_type": "execute_result"
    }
   ],
   "source": [
    "counts"
   ]
  },
  {
   "cell_type": "code",
   "execution_count": 76,
   "id": "twenty-participant",
   "metadata": {},
   "outputs": [],
   "source": [
    "def reproduce_state(psi,n_measurements=1000,n_steps=300):\n",
    "    \n",
    "    phi,theta = estimate_angles_for_state(rsv,n_measurements)\n",
    "    \n",
    "    swapcir = create_swap_test_circuit(psi)\n",
    "    state_generation_circuit = create_state_generation_circuit(phi,theta)\n",
    "    \n",
    "    generated_qc = blank_circuit.compose(state_generation_circuit, [2])\n",
    "    composed_qc = generated_qc.compose(swapcir)\n",
    "\n",
    "    job = execute(composed_qc,simulator,shots = n_steps)\n",
    "    result = job.result()\n",
    "    \n",
    "    corr = 1-(1/(2*n_steps))*counts['1']\n",
    "    \n",
    "    return phi,theta,corr\n",
    "    "
   ]
  },
  {
   "cell_type": "code",
   "execution_count": 77,
   "id": "posted-divide",
   "metadata": {},
   "outputs": [
    {
     "data": {
      "text/plain": [
       "(1.6537127622462162, 0.8918157779542166, 0.5066666666666666)"
      ]
     },
     "execution_count": 77,
     "metadata": {},
     "output_type": "execute_result"
    }
   ],
   "source": [
    "reproduce_state(rsv)"
   ]
  },
  {
   "cell_type": "code",
   "execution_count": null,
   "id": "computational-calculation",
   "metadata": {},
   "outputs": [],
   "source": []
  },
  {
   "cell_type": "code",
   "execution_count": 78,
   "id": "fantastic-strengthening",
   "metadata": {},
   "outputs": [],
   "source": [
    "def repeated_swap_test_vs_rotgenstate(psi,phi,theta,n_steps=300):\n",
    "    \n",
    "    swapcir = create_swap_test_circuit(psi)\n",
    "    state_generation_circuit = create_state_generation_circuit(phi,theta)\n",
    "    \n",
    "    generated_qc = blank_circuit.compose(state_generation_circuit, [2])\n",
    "    composed_qc = generated_qc.compose(swapcir)\n",
    "\n",
    "    job = execute(composed_qc,simulator,shots = n_steps)\n",
    "    result = job.result()\n",
    "    \n",
    "    corr = 1-(1/(2*n_steps))*counts['1']\n",
    "    \n",
    "    return corr"
   ]
  },
  {
   "cell_type": "code",
   "execution_count": null,
   "id": "understood-metadata",
   "metadata": {},
   "outputs": [],
   "source": []
  },
  {
   "cell_type": "code",
   "execution_count": 79,
   "id": "alien-bottom",
   "metadata": {},
   "outputs": [],
   "source": [
    "def move_theta_right(psi,phi,theta, epsilon,num_swap_steps = 300):\n",
    "    \n",
    "\n",
    "    updated_theta = theta + epsilon\n",
    "\n",
    "    updated_corr = repeated_swap_test_vs_rotgenstate(psi,phi,updated_theta)\n",
    "    \n",
    "    \n",
    "    return updated_corr,updated_theta\n",
    "    \n",
    "def move_theta_left(psi,phi,theta, epsilon,num_swap_steps = 300):\n",
    "    \n",
    "\n",
    "    updated_theta = theta - epsilon\n",
    "\n",
    "    updated_corr = repeated_swap_test_vs_rotgenstate(psi,phi,updated_theta)\n",
    "    \n",
    "    return updated_corr,updated_theta\n",
    "        \n",
    "def move_phi_right(psi,phi,theta, epsilon,num_swap_steps = 300):\n",
    "\n",
    "\n",
    "    updated_phi = phi + epsilon\n",
    "\n",
    "    updated_corr = repeated_swap_test_vs_rotgenstate(psi,updated_phi,theta)\n",
    "\n",
    "    return updated_corr,updated_phi\n",
    "\n",
    "def move_phi_left(psi,phi,theta, epsilon,num_swap_steps = 300):\n",
    "\n",
    "    updated_phi = phi - epsilon\n",
    "\n",
    "    updated_corr = repeated_swap_test_vs_rotgenstate(psi,updated_phi,theta)\n",
    "\n",
    "\n",
    "    return updated_corr,updated_phi"
   ]
  },
  {
   "cell_type": "code",
   "execution_count": 80,
   "id": "laughing-forty",
   "metadata": {},
   "outputs": [],
   "source": [
    "def refine_parameters(psi,phi,theta,epsilon,current_correlation):\n",
    "        \n",
    "        current_best_corr = current_correlation\n",
    "        \n",
    "        updated_corr,updated_theta = move_theta_right(psi,phi,theta, epsilon)\n",
    "\n",
    "        if updated_corr > current_best_corr:\n",
    "\n",
    "\n",
    "            while updated_corr > current_best_corr:\n",
    "\n",
    "                current_best_corr = updated_corr\n",
    "                theta=updated_theta\n",
    "\n",
    "\n",
    "                updated_corr,updated_theta = move_theta_right(psi,phi,theta, epsilon)\n",
    "\n",
    "\n",
    "        else :\n",
    "\n",
    "\n",
    "            updated_corr,updated_theta = move_theta_left(psi,phi,theta, epsilon)\n",
    "\n",
    "            while updated_corr > current_best_corr:\n",
    "\n",
    "                current_best_corr = updated_corr\n",
    "                theta=updated_theta\n",
    "\n",
    "\n",
    "                updated_corr,updated_theta = move_theta_left(psi,phi,theta, epsilon)\n",
    "\n",
    "\n",
    "\n",
    "        updated_corr,updated_phi = move_phi_right(psi,phi,theta, epsilon)\n",
    "\n",
    "        if updated_corr > current_best_corr:\n",
    "\n",
    "            while updated_corr > current_best_corr:\n",
    "\n",
    "                current_best_corr =updated_corr\n",
    "                phi = updated_phi\n",
    "\n",
    "                updated_corr,updated_phi = move_phi_right(psi,phi,theta, epsilon)\n",
    "\n",
    "\n",
    "        else :\n",
    "\n",
    "\n",
    "            updated_corr,updated_phi = move_phi_left(psi,phi,theta, epsilon)\n",
    "\n",
    "\n",
    "            while updated_corr > current_best_corr:\n",
    "\n",
    "                current_best_corr = updated_corr\n",
    "                phi = updated_phi\n",
    "\n",
    "                updated_corr,updated_phi = move_phi_left(psi,phi,theta, epsilon)\n",
    "\n",
    "\n",
    "\n",
    "        return current_best_corr,phi,theta\n",
    "\n",
    "    \n",
    "\n",
    "\n",
    "\n",
    "\n",
    "\n",
    "\n"
   ]
  },
  {
   "cell_type": "code",
   "execution_count": 81,
   "id": "lyric-intake",
   "metadata": {},
   "outputs": [],
   "source": [
    "def refine_parameters_recursively(psi,phi,theta,current_correlation,epsilon=0.5,min_epsilon=0.005,debug =False):\n",
    "    \n",
    "    updated_epsilon = epsilon\n",
    "    \n",
    "    while updated_epsilon >= min_epsilon:\n",
    "        \n",
    "        current_correlation,phi,theta = refine_parameters(psi,phi,theta,updated_epsilon,current_correlation)\n",
    "        if debug:\n",
    "            print(current_correlation)\n",
    "        current_correlation,phi,theta = refine_parameters(psi,phi,theta,updated_epsilon,current_correlation)\n",
    "        if debug:\n",
    "            print(current_correlation)\n",
    "        \n",
    "        current_correlation,phi,theta = refine_parameters(psi,phi,theta,updated_epsilon,current_correlation)\n",
    "        if debug:\n",
    "            print(current_correlation)\n",
    "       \n",
    "        if current_correlation ==1:\n",
    "            break \n",
    "            \n",
    "        updated_epsilon = updated_epsilon/2\n",
    "        \n",
    "    return   current_correlation,phi,theta \n",
    "    \n",
    "    "
   ]
  },
  {
   "cell_type": "code",
   "execution_count": null,
   "id": "hydraulic-specialist",
   "metadata": {},
   "outputs": [],
   "source": []
  },
  {
   "cell_type": "markdown",
   "id": "connected-detection",
   "metadata": {},
   "source": [
    "# 3"
   ]
  },
  {
   "cell_type": "code",
   "execution_count": 82,
   "id": "detailed-answer",
   "metadata": {},
   "outputs": [],
   "source": [
    "\n",
    "def create_swap_multiplicative_binary_circuit(psi):\n",
    "    \n",
    "    N= int(np.log2(psi.shape[0]))\n",
    "    \n",
    "    q = QuantumRegister(1+2*N)\n",
    "    #c = ClassicalRegister(N)\n",
    "    c = [ ClassicalRegister(1) for _ in range(N) ]\n",
    "    circuit = QuantumCircuit(q,*c)\n",
    "    \n",
    "    circuit.initialize(Statevector.from_label('0'*N).data,[i for i in range(N+1,2*N+1)])\n",
    "    \n",
    "    circuit.initialize(psi,[i for i in range(1,N+1)])\n",
    "    \n",
    "    \n",
    "    for i in range(N):\n",
    "    \n",
    "        circuit.h(0)\n",
    "        circuit.cswap(0,i+1,N+1+i)\n",
    "        circuit.h(0)\n",
    "        \n",
    "        circuit.measure(q[0],c[i])\n",
    "        \n",
    "        circuit.ry(np.pi,0).c_if(c[i],0)\n",
    "        circuit.barrier()\n",
    "        \n",
    "        \n",
    "    return circuit\n",
    "    "
   ]
  },
  {
   "cell_type": "code",
   "execution_count": 83,
   "id": "junior-perception",
   "metadata": {},
   "outputs": [],
   "source": [
    "nqvec = Statevector.from_label('0101').data"
   ]
  },
  {
   "cell_type": "code",
   "execution_count": 84,
   "id": "front-recipe",
   "metadata": {},
   "outputs": [
    {
     "data": {
      "text/plain": [
       "16"
      ]
     },
     "execution_count": 84,
     "metadata": {},
     "output_type": "execute_result"
    }
   ],
   "source": [
    "nqvec.shape[0]"
   ]
  },
  {
   "cell_type": "code",
   "execution_count": 85,
   "id": "handmade-clinic",
   "metadata": {},
   "outputs": [],
   "source": [
    "swap_multiplicative_circ = create_swap_multiplicative_binary_circuit(nqvec)"
   ]
  },
  {
   "cell_type": "code",
   "execution_count": 86,
   "id": "higher-craft",
   "metadata": {},
   "outputs": [
    {
     "data": {
      "text/html": [
       "<pre style=\"word-wrap: normal;white-space: pre;background: #fff0;line-height: 1.1;font-family: &quot;Courier New&quot;,Courier,monospace\">                            ┌───┐                         ┌───┐┌─┐┌────────┐ ░ »\n",
       "q13_0: ─────────────────────┤ H ├───────────────────────■─┤ H ├┤M├┤ RY(pi) ├─░─»\n",
       "       ┌────────────────────┴───┴─────────────────────┐ │ └───┘└╥┘└───┬────┘ ░ »\n",
       "q13_1: ┤0                                             ├─X───────╫─────┼──────░─»\n",
       "       │                                              │ │       ║     │      ░ »\n",
       "q13_2: ┤1                                             ├─┼───────╫─────┼──────░─»\n",
       "       │  initialize(0,0,0,0,0,1,0,0,0,0,0,0,0,0,0,0) │ │       ║     │      ░ »\n",
       "q13_3: ┤2                                             ├─┼───────╫─────┼──────░─»\n",
       "       │                                              │ │       ║     │      ░ »\n",
       "q13_4: ┤3                                             ├─┼───────╫─────┼──────░─»\n",
       "       ├──────────────────────────────────────────────┤ │       ║     │      ░ »\n",
       "q13_5: ┤0                                             ├─X───────╫─────┼──────░─»\n",
       "       │                                              │         ║     │      ░ »\n",
       "q13_6: ┤1                                             ├─────────╫─────┼──────░─»\n",
       "       │  initialize(1,0,0,0,0,0,0,0,0,0,0,0,0,0,0,0) │         ║     │      ░ »\n",
       "q13_7: ┤2                                             ├─────────╫─────┼──────░─»\n",
       "       │                                              │         ║     │      ░ »\n",
       "q13_8: ┤3                                             ├─────────╫─────┼──────░─»\n",
       "       └──────────────────────────────────────────────┘         ║  ┌──┴──┐   ░ »\n",
       "c13_0: ═════════════════════════════════════════════════════════╩══╡ = 0 ╞═════»\n",
       "                                                                   └─────┘     »\n",
       "c14_0: ════════════════════════════════════════════════════════════════════════»\n",
       "                                                                               »\n",
       "c15_0: ════════════════════════════════════════════════════════════════════════»\n",
       "                                                                               »\n",
       "c16_0: ════════════════════════════════════════════════════════════════════════»\n",
       "                                                                               »\n",
       "«       ┌───┐   ┌───┐┌─┐┌────────┐ ░ ┌───┐   ┌───┐┌─┐┌────────┐ ░ ┌───┐   ┌───┐»\n",
       "«q13_0: ┤ H ├─■─┤ H ├┤M├┤ RY(pi) ├─░─┤ H ├─■─┤ H ├┤M├┤ RY(pi) ├─░─┤ H ├─■─┤ H ├»\n",
       "«       └───┘ │ └───┘└╥┘└───┬────┘ ░ └───┘ │ └───┘└╥┘└───┬────┘ ░ └───┘ │ └───┘»\n",
       "«q13_1: ──────┼───────╫─────┼──────░───────┼───────╫─────┼──────░───────┼──────»\n",
       "«             │       ║     │      ░       │       ║     │      ░       │      »\n",
       "«q13_2: ──────X───────╫─────┼──────░───────┼───────╫─────┼──────░───────┼──────»\n",
       "«             │       ║     │      ░       │       ║     │      ░       │      »\n",
       "«q13_3: ──────┼───────╫─────┼──────░───────X───────╫─────┼──────░───────┼──────»\n",
       "«             │       ║     │      ░       │       ║     │      ░       │      »\n",
       "«q13_4: ──────┼───────╫─────┼──────░───────┼───────╫─────┼──────░───────X──────»\n",
       "«             │       ║     │      ░       │       ║     │      ░       │      »\n",
       "«q13_5: ──────┼───────╫─────┼──────░───────┼───────╫─────┼──────░───────┼──────»\n",
       "«             │       ║     │      ░       │       ║     │      ░       │      »\n",
       "«q13_6: ──────X───────╫─────┼──────░───────┼───────╫─────┼──────░───────┼──────»\n",
       "«                     ║     │      ░       │       ║     │      ░       │      »\n",
       "«q13_7: ──────────────╫─────┼──────░───────X───────╫─────┼──────░───────┼──────»\n",
       "«                     ║     │      ░               ║     │      ░       │      »\n",
       "«q13_8: ──────────────╫─────┼──────░───────────────╫─────┼──────░───────X──────»\n",
       "«                     ║     │      ░               ║     │      ░              »\n",
       "«c13_0: ══════════════╬═════╪══════════════════════╬═════╪═════════════════════»\n",
       "«                     ║  ┌──┴──┐                   ║     │                     »\n",
       "«c14_0: ══════════════╩══╡ = 0 ╞═══════════════════╬═════╪═════════════════════»\n",
       "«                        └─────┘                   ║  ┌──┴──┐                  »\n",
       "«c15_0: ═══════════════════════════════════════════╩══╡ = 0 ╞══════════════════»\n",
       "«                                                     └─────┘                  »\n",
       "«c16_0: ═══════════════════════════════════════════════════════════════════════»\n",
       "«                                                                              »\n",
       "«       ┌─┐┌────────┐ ░ \n",
       "«q13_0: ┤M├┤ RY(pi) ├─░─\n",
       "«       └╥┘└───┬────┘ ░ \n",
       "«q13_1: ─╫─────┼──────░─\n",
       "«        ║     │      ░ \n",
       "«q13_2: ─╫─────┼──────░─\n",
       "«        ║     │      ░ \n",
       "«q13_3: ─╫─────┼──────░─\n",
       "«        ║     │      ░ \n",
       "«q13_4: ─╫─────┼──────░─\n",
       "«        ║     │      ░ \n",
       "«q13_5: ─╫─────┼──────░─\n",
       "«        ║     │      ░ \n",
       "«q13_6: ─╫─────┼──────░─\n",
       "«        ║     │      ░ \n",
       "«q13_7: ─╫─────┼──────░─\n",
       "«        ║     │      ░ \n",
       "«q13_8: ─╫─────┼──────░─\n",
       "«        ║     │      ░ \n",
       "«c13_0: ═╬═════╪════════\n",
       "«        ║     │        \n",
       "«c14_0: ═╬═════╪════════\n",
       "«        ║     │        \n",
       "«c15_0: ═╬═════╪════════\n",
       "«        ║  ┌──┴──┐     \n",
       "«c16_0: ═╩══╡ = 0 ╞═════\n",
       "«           └─────┘     </pre>"
      ],
      "text/plain": [
       "                            ┌───┐                         ┌───┐┌─┐┌────────┐ ░ »\n",
       "q13_0: ─────────────────────┤ H ├───────────────────────■─┤ H ├┤M├┤ RY(pi) ├─░─»\n",
       "       ┌────────────────────┴───┴─────────────────────┐ │ └───┘└╥┘└───┬────┘ ░ »\n",
       "q13_1: ┤0                                             ├─X───────╫─────┼──────░─»\n",
       "       │                                              │ │       ║     │      ░ »\n",
       "q13_2: ┤1                                             ├─┼───────╫─────┼──────░─»\n",
       "       │  initialize(0,0,0,0,0,1,0,0,0,0,0,0,0,0,0,0) │ │       ║     │      ░ »\n",
       "q13_3: ┤2                                             ├─┼───────╫─────┼──────░─»\n",
       "       │                                              │ │       ║     │      ░ »\n",
       "q13_4: ┤3                                             ├─┼───────╫─────┼──────░─»\n",
       "       ├──────────────────────────────────────────────┤ │       ║     │      ░ »\n",
       "q13_5: ┤0                                             ├─X───────╫─────┼──────░─»\n",
       "       │                                              │         ║     │      ░ »\n",
       "q13_6: ┤1                                             ├─────────╫─────┼──────░─»\n",
       "       │  initialize(1,0,0,0,0,0,0,0,0,0,0,0,0,0,0,0) │         ║     │      ░ »\n",
       "q13_7: ┤2                                             ├─────────╫─────┼──────░─»\n",
       "       │                                              │         ║     │      ░ »\n",
       "q13_8: ┤3                                             ├─────────╫─────┼──────░─»\n",
       "       └──────────────────────────────────────────────┘         ║  ┌──┴──┐   ░ »\n",
       "c13_0: ═════════════════════════════════════════════════════════╩══╡ = 0 ╞═════»\n",
       "                                                                   └─────┘     »\n",
       "c14_0: ════════════════════════════════════════════════════════════════════════»\n",
       "                                                                               »\n",
       "c15_0: ════════════════════════════════════════════════════════════════════════»\n",
       "                                                                               »\n",
       "c16_0: ════════════════════════════════════════════════════════════════════════»\n",
       "                                                                               »\n",
       "«       ┌───┐   ┌───┐┌─┐┌────────┐ ░ ┌───┐   ┌───┐┌─┐┌────────┐ ░ ┌───┐   ┌───┐»\n",
       "«q13_0: ┤ H ├─■─┤ H ├┤M├┤ RY(pi) ├─░─┤ H ├─■─┤ H ├┤M├┤ RY(pi) ├─░─┤ H ├─■─┤ H ├»\n",
       "«       └───┘ │ └───┘└╥┘└───┬────┘ ░ └───┘ │ └───┘└╥┘└───┬────┘ ░ └───┘ │ └───┘»\n",
       "«q13_1: ──────┼───────╫─────┼──────░───────┼───────╫─────┼──────░───────┼──────»\n",
       "«             │       ║     │      ░       │       ║     │      ░       │      »\n",
       "«q13_2: ──────X───────╫─────┼──────░───────┼───────╫─────┼──────░───────┼──────»\n",
       "«             │       ║     │      ░       │       ║     │      ░       │      »\n",
       "«q13_3: ──────┼───────╫─────┼──────░───────X───────╫─────┼──────░───────┼──────»\n",
       "«             │       ║     │      ░       │       ║     │      ░       │      »\n",
       "«q13_4: ──────┼───────╫─────┼──────░───────┼───────╫─────┼──────░───────X──────»\n",
       "«             │       ║     │      ░       │       ║     │      ░       │      »\n",
       "«q13_5: ──────┼───────╫─────┼──────░───────┼───────╫─────┼──────░───────┼──────»\n",
       "«             │       ║     │      ░       │       ║     │      ░       │      »\n",
       "«q13_6: ──────X───────╫─────┼──────░───────┼───────╫─────┼──────░───────┼──────»\n",
       "«                     ║     │      ░       │       ║     │      ░       │      »\n",
       "«q13_7: ──────────────╫─────┼──────░───────X───────╫─────┼──────░───────┼──────»\n",
       "«                     ║     │      ░               ║     │      ░       │      »\n",
       "«q13_8: ──────────────╫─────┼──────░───────────────╫─────┼──────░───────X──────»\n",
       "«                     ║     │      ░               ║     │      ░              »\n",
       "«c13_0: ══════════════╬═════╪══════════════════════╬═════╪═════════════════════»\n",
       "«                     ║  ┌──┴──┐                   ║     │                     »\n",
       "«c14_0: ══════════════╩══╡ = 0 ╞═══════════════════╬═════╪═════════════════════»\n",
       "«                        └─────┘                   ║  ┌──┴──┐                  »\n",
       "«c15_0: ═══════════════════════════════════════════╩══╡ = 0 ╞══════════════════»\n",
       "«                                                     └─────┘                  »\n",
       "«c16_0: ═══════════════════════════════════════════════════════════════════════»\n",
       "«                                                                              »\n",
       "«       ┌─┐┌────────┐ ░ \n",
       "«q13_0: ┤M├┤ RY(pi) ├─░─\n",
       "«       └╥┘└───┬────┘ ░ \n",
       "«q13_1: ─╫─────┼──────░─\n",
       "«        ║     │      ░ \n",
       "«q13_2: ─╫─────┼──────░─\n",
       "«        ║     │      ░ \n",
       "«q13_3: ─╫─────┼──────░─\n",
       "«        ║     │      ░ \n",
       "«q13_4: ─╫─────┼──────░─\n",
       "«        ║     │      ░ \n",
       "«q13_5: ─╫─────┼──────░─\n",
       "«        ║     │      ░ \n",
       "«q13_6: ─╫─────┼──────░─\n",
       "«        ║     │      ░ \n",
       "«q13_7: ─╫─────┼──────░─\n",
       "«        ║     │      ░ \n",
       "«q13_8: ─╫─────┼──────░─\n",
       "«        ║     │      ░ \n",
       "«c13_0: ═╬═════╪════════\n",
       "«        ║     │        \n",
       "«c14_0: ═╬═════╪════════\n",
       "«        ║     │        \n",
       "«c15_0: ═╬═════╪════════\n",
       "«        ║  ┌──┴──┐     \n",
       "«c16_0: ═╩══╡ = 0 ╞═════\n",
       "«           └─────┘     "
      ]
     },
     "execution_count": 86,
     "metadata": {},
     "output_type": "execute_result"
    }
   ],
   "source": [
    "swap_multiplicative_circ.draw()"
   ]
  },
  {
   "cell_type": "code",
   "execution_count": 87,
   "id": "historical-horizon",
   "metadata": {},
   "outputs": [],
   "source": [
    "n_trials=10\n",
    "job = execute(swap_multiplicative_circ,simulator,shots = n_trials,meas_level='single')\n",
    "result = job.result()\n",
    "counts = result.get_counts(swap_multiplicative_circ)"
   ]
  },
  {
   "cell_type": "code",
   "execution_count": 88,
   "id": "front-alexandria",
   "metadata": {},
   "outputs": [
    {
     "data": {
      "text/plain": [
       "{'1 1 1 0': 5, '1 0 1 0': 2, '1 0 1 1': 3}"
      ]
     },
     "execution_count": 88,
     "metadata": {},
     "output_type": "execute_result"
    }
   ],
   "source": [
    "counts"
   ]
  },
  {
   "cell_type": "code",
   "execution_count": 103,
   "id": "threatened-shift",
   "metadata": {},
   "outputs": [],
   "source": [
    "def get_qubit_array_from_counts(counts):\n",
    "    \n",
    "    sample_key=list(counts.keys())[0]\n",
    "    \n",
    "    N =int(len(sample_key.split(' ')))\n",
    "    total_measurements =sum( list(counts.values()) )\n",
    "    \n",
    "    qbts=np.zeros(N)\n",
    "\n",
    "    for i in range(N):\n",
    "\n",
    "            for key in counts.keys():\n",
    "\n",
    "                if key.split(' ')[i] == '1':\n",
    "\n",
    "                    qbts[i]+=counts[key]\n",
    "\n",
    "\n",
    "\n",
    "    qbts = qbts/total_measurements       \n",
    "\n",
    "\n",
    "\n",
    "    return  (~(qbts == 1) )*1\n",
    "\n"
   ]
  },
  {
   "cell_type": "code",
   "execution_count": 104,
   "id": "published-protein",
   "metadata": {},
   "outputs": [
    {
     "data": {
      "text/plain": [
       "array([0, 1, 0, 1])"
      ]
     },
     "execution_count": 104,
     "metadata": {},
     "output_type": "execute_result"
    }
   ],
   "source": [
    "get_qubit_array_from_counts(counts)"
   ]
  },
  {
   "cell_type": "code",
   "execution_count": null,
   "id": "sublime-upper",
   "metadata": {},
   "outputs": [],
   "source": []
  },
  {
   "cell_type": "code",
   "execution_count": null,
   "id": "timely-fishing",
   "metadata": {},
   "outputs": [],
   "source": []
  },
  {
   "cell_type": "code",
   "execution_count": null,
   "id": "broke-peter",
   "metadata": {},
   "outputs": [],
   "source": []
  },
  {
   "cell_type": "markdown",
   "id": "italic-chuck",
   "metadata": {},
   "source": [
    "so in general we get the following pipeline where we can alter the state of each single qubit this is different from the original in the sense that states are not represented in the product base, they are only a collection of the qubit states.  \n",
    "\n",
    "n_trials can be tuned if needed."
   ]
  },
  {
   "cell_type": "code",
   "execution_count": 105,
   "id": "accomplished-airplane",
   "metadata": {},
   "outputs": [],
   "source": [
    "bin_prod_state = '01011'"
   ]
  },
  {
   "cell_type": "code",
   "execution_count": 106,
   "id": "fifteen-standing",
   "metadata": {},
   "outputs": [],
   "source": [
    "nqvec = Statevector.from_label(bin_prod_state).data"
   ]
  },
  {
   "cell_type": "code",
   "execution_count": 107,
   "id": "sweet-nelson",
   "metadata": {},
   "outputs": [],
   "source": [
    "swap_multiplicative_circ = create_swap_multiplicative_binary_circuit(nqvec)"
   ]
  },
  {
   "cell_type": "code",
   "execution_count": 108,
   "id": "visible-statement",
   "metadata": {},
   "outputs": [],
   "source": [
    "n_trials=10\n",
    "job = execute(swap_multiplicative_circ,simulator,shots = n_trials,meas_level='single')\n",
    "result = job.result()\n",
    "counts = result.get_counts(swap_multiplicative_circ)"
   ]
  },
  {
   "cell_type": "code",
   "execution_count": 109,
   "id": "legal-special",
   "metadata": {},
   "outputs": [
    {
     "data": {
      "text/plain": [
       "array([0, 1, 0, 1, 1])"
      ]
     },
     "execution_count": 109,
     "metadata": {},
     "output_type": "execute_result"
    }
   ],
   "source": [
    "get_qubit_array_from_counts(counts)"
   ]
  },
  {
   "cell_type": "code",
   "execution_count": null,
   "id": "narrative-ivory",
   "metadata": {},
   "outputs": [],
   "source": []
  },
  {
   "cell_type": "code",
   "execution_count": null,
   "id": "consistent-antarctica",
   "metadata": {},
   "outputs": [],
   "source": []
  },
  {
   "cell_type": "code",
   "execution_count": null,
   "id": "eligible-smoke",
   "metadata": {},
   "outputs": [],
   "source": []
  },
  {
   "cell_type": "code",
   "execution_count": null,
   "id": "polyphonic-warrant",
   "metadata": {},
   "outputs": [],
   "source": []
  },
  {
   "cell_type": "code",
   "execution_count": null,
   "id": "royal-radical",
   "metadata": {},
   "outputs": [],
   "source": []
  },
  {
   "cell_type": "code",
   "execution_count": null,
   "id": "digital-compatibility",
   "metadata": {},
   "outputs": [],
   "source": []
  }
 ],
 "metadata": {
  "kernelspec": {
   "display_name": "Qiskit",
   "language": "python",
   "name": "qiskit"
  },
  "language_info": {
   "codemirror_mode": {
    "name": "ipython",
    "version": 3
   },
   "file_extension": ".py",
   "mimetype": "text/x-python",
   "name": "python",
   "nbconvert_exporter": "python",
   "pygments_lexer": "ipython3",
   "version": "3.7.6"
  }
 },
 "nbformat": 4,
 "nbformat_minor": 5
}
